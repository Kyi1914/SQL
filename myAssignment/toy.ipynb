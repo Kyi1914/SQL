{
 "cells": [
  {
   "cell_type": "markdown",
   "metadata": {},
   "source": [
    "# Assessment"
   ]
  },
  {
   "cell_type": "markdown",
   "metadata": {},
   "source": [
    "## 1. Creating the Tables"
   ]
  },
  {
   "cell_type": "code",
   "execution_count": null,
   "metadata": {
    "vscode": {
     "languageId": "sql"
    }
   },
   "outputs": [],
   "source": [
    "-- Database structure:\n",
    "\n",
    "create database GoodChoice;\n",
    "Use GoodChoice;\n",
    "\n",
    "-- create Supplier table;\n",
    "Create table Supplier (\n",
    "\tsupplierID varchar(50)primary key,\n",
    "    supplyDate datetime,\n",
    "    supplierName varchar(250) not null,\n",
    "    supplierCountry varchar(250),\n",
    "    supplierPhone varchar (60)\n",
    ");\n",
    "\n",
    "-- Create Purchase Table;\n",
    "Create table Purchase (\n",
    "\tpurchaseID varchar(50) primary key,\n",
    "\tpurchaseDate datetime,\n",
    "\tproductID varchar(50),\n",
    "    supplierID varchar(50),\n",
    "    purchaseQty int,\n",
    "    unitPurchasePrice double --update\n",
    "    totalPurchaseAmount double, --update\n",
    "    foreign key (productID) references product(productID),\n",
    "    foreign key (supplierID) references supplier(supplierID)\n",
    "    \n",
    ");\n",
    "    \n",
    "-- create product_category table;\n",
    "create table category (\n",
    "\tcategoryID varchar(50) primary key,\n",
    "    categoryName varchar(250) not null\n",
    ");\n",
    "\n",
    "-- create Product table;\n",
    "create table product (\n",
    "\tproductID varchar(50) primary key,\n",
    "    categoryID varchar(50),\n",
    "    productName varchar(250),\n",
    "    productImage varchar(250),\n",
    "    productPrice float(10,2),\n",
    "    stockQty int,\n",
    "    foreign key (categoryID) references category(categoryID) \n",
    ");\n",
    "\n",
    "-- create table Order;\n",
    "create table Order (\n",
    "\torderID varchar(50) primary key,\n",
    "    orderDate datetime,\n",
    "    customerID varchar(50),\n",
    "    deliveryDate datetime,\n",
    "    deliveryAddress varchar(250),\n",
    "    totalAmount double,\n",
    "    orderType varchar(250),\n",
    "    paymentStatus varchar(50), --should include in the customer payment?\n",
    "    foreign key (customerId) references customer(customerID) \n",
    ");\n",
    "-- create product order table;\n",
    "create table ProductOrder (\n",
    "\tproductID varchar(50) ,\n",
    "    orderId varchar(50),\n",
    "\tprimary key(productID, orderID),\n",
    "    productQty int,\n",
    "    sellingPrice float(10,2), \n",
    "    totalAmount float(10,2),\n",
    "    foreign key (productID) references Product(productID),\n",
    "    foreign key (orderID) references Order(orderID)\n",
    ");\n",
    "\n",
    "-- create table Customer;\n",
    "create table Customer (\n",
    "\tcustomerID varchar(50) primary key,\n",
    "    customerName varchar(250),\n",
    "    customerPhone varchar(100),\n",
    "    customerAddress varchar(250)\n",
    ");\n",
    "\n",
    "-- create table CustomerPayment;\n",
    "create table CustomerPayment (\n",
    "\tcustomerPaymentID varchar(50) primary key,\n",
    "    orderId varchar(50),\n",
    "    paymentMethod varchar(50),\n",
    "    paymentAmount double,\n",
    "    paymentDate datetime,\n",
    "    -- remainingAmount float(10,2), should include here\n",
    "    foreign key (orderID) references Order(orderID)\n",
    ");\n",
    "\n",
    "-- create table SupplierPayment;\n",
    "create table SupplierPayment (\n",
    "\tsupplierPaymentID varchar(50) primary key,\n",
    "    purchaseID varchar(50),\n",
    "    paymentDate datetime,\n",
    "    paymentAmount float(10,2),\n",
    "    remainingAmount float(10,2),\n",
    "    -- paymentMethod varchar(50), should include\n",
    "    paymentStatus varchar(50), -- update \n",
    "    foreign key (purchaseID) references Purchase(purchaseID)\n",
    ");"
   ]
  },
  {
   "cell_type": "markdown",
   "metadata": {},
   "source": [
    "## 2. Inserting Data"
   ]
  },
  {
   "cell_type": "markdown",
   "metadata": {},
   "source": [
    "#### Customers, Vendors, ProductCategories Table"
   ]
  },
  {
   "cell_type": "markdown",
   "metadata": {},
   "source": [
    "Insert 5 customers into Catagory table:"
   ]
  },
  {
   "cell_type": "code",
   "execution_count": null,
   "metadata": {
    "vscode": {
     "languageId": "sql"
    }
   },
   "outputs": [],
   "source": [
    "INSERT INTO Category (categoryID, categoryName) VALUES\n",
    "('CAT001', 'Educational Toys'),\n",
    "('CAT002', 'Soft Toys'),\n",
    "('CAT003', 'Action Figures'),\n",
    "('CAT004', 'Building Blocks'),\n",
    "('CAT005', 'Remote Control Toys');"
   ]
  },
  {
   "cell_type": "markdown",
   "metadata": {},
   "source": [
    "Insert 5 customers into Customer table:"
   ]
  },
  {
   "cell_type": "code",
   "execution_count": null,
   "metadata": {
    "vscode": {
     "languageId": "sql"
    }
   },
   "outputs": [],
   "source": [
    "INSERT INTO Customer (customerID, customerName, customerPhone, customerAddress) VALUES\n",
    "('C001', 'Aung Min', '+95-1-2345678', 'Sanchaung, Yangon, Myanmar'),\n",
    "('C002', 'Zaw Win', '+95-9-7654321', 'Kamayut, Yangon, Myanmar'),\n",
    "('C003', 'Hla Htay', '+95-9-1234567', 'Mayangone, Yangon, Myanmar'),\n",
    "('C004', 'Mya Oo', '+95-1-8765432', 'Hledan, Yangon, Myanmar'),\n",
    "('C005', 'Thidar Kyaw', '+95-9-5678901', 'Tamwe, Yangon, Myanmar'),\n",
    "('C006', 'Tun Lin', '+95-2-2345678', 'Chan Aye Thar Zan, Mandalay, Myanmar'),\n",
    "('C007', 'Myint Zaw', '+95-9-4567890', 'Aungmyaythazan, Mandalay, Myanmar'),\n",
    "('C008', 'Soe Min', '+95-9-8765432', 'Maha Aung Myay, Mandalay, Myanmar'),\n",
    "('C009', 'Htet Aung', '+95-2-1234567', 'Amarapura, Mandalay, Myanmar'),\n",
    "('C010', 'Thet Naing', '+95-9-6789012', 'Pyin Oo Lwin, Mandalay, Myanmar'),\n",
    "('C011', 'Moe Moe', '+95-74-1234567', 'Shwe Min Wun, Myitkyina, Myanmar'),\n",
    "('C012', 'Min Khant', '+95-74-7654321', 'Sitapu, Myitkyina, Myanmar'),\n",
    "('C013', 'Aye Aye', '+95-74-3456789', 'Du Ka Hta, Myitkyina, Myanmar'),\n",
    "('C014', 'Kyaw Kyaw', '+95-74-2345678', 'Zaygone, Myitkyina, Myanmar'),\n",
    "('C015', 'Hlaing Hlaing', '+95-9-4567891', 'Yuzana, Myitkyina, Myanmar'),\n",
    "('C016', 'Than Than', '+95-9-9876543', 'Botahtaung, Yangon, Myanmar'),\n",
    "('C017', 'Sanda Win', '+95-1-7654321', 'Downtown, Yangon, Myanmar'),\n",
    "('C018', 'Nay Lin', '+95-9-8765431', 'Kyauk Myaung, Yangon, Myanmar'),\n",
    "('C019', 'Paing Soe', '+95-2-3456789', 'Naypyidaw, Myanmar'),\n",
    "('C020', 'Ei Ei', '+95-9-6789123', 'Chan Mya Thazi, Mandalay, Myanmar');"
   ]
  },
  {
   "cell_type": "markdown",
   "metadata": {},
   "source": [
    "Insert 5 supplier into Supplier table:"
   ]
  },
  {
   "cell_type": "code",
   "execution_count": null,
   "metadata": {
    "vscode": {
     "languageId": "sql"
    }
   },
   "outputs": [],
   "source": [
    "INSERT INTO Supplier (supplierID, supplyDate, supplierName, supplierCountry, supplierPhone) VALUES\n",
    "('S001', '2024-02-20 10:00:00', 'Bangkok Trading Co.', 'Thailand', '+66-2-123-4567'),\n",
    "('S002', '2024-02-18 15:30:00', 'Chiang Mai Exports', 'Thailand', '+66-53-987-6543'),\n",
    "('S003', '2024-02-22 09:45:00', 'Shanghai Industrial Ltd.', 'China', '+86-21-8765-4321'),\n",
    "('S004', '2024-02-19 14:10:00', 'Guangzhou Manufacturing', 'China', '+86-20-1234-5678'),\n",
    "('S005', '2024-02-21 11:25:00', 'Yangon Supply Co.', 'Myanmar', '+95-1-234-5678');"
   ]
  },
  {
   "cell_type": "markdown",
   "metadata": {},
   "source": [
    "#### Product Table"
   ]
  },
  {
   "cell_type": "markdown",
   "metadata": {},
   "source": [
    "Insert 20 products into Products table:"
   ]
  },
  {
   "cell_type": "code",
   "execution_count": null,
   "metadata": {
    "vscode": {
     "languageId": "sql"
    }
   },
   "outputs": [],
   "source": [
    "INSERT INTO Product (productID, categoryID, productName, productImage, productPrice, stockQty) VALUES\n",
    "('P001', 'CAT001', 'Alphabet Learning Board', 'alphabet_board.jpg', 12.99, 50),\n",
    "('P002', 'CAT001', 'Math Flash Cards', 'math_flashcards.jpg', 8.49, 30),\n",
    "('P003', 'CAT001', 'Solar System Puzzle', 'solar_system_puzzle.jpg', 15.99, 40),\n",
    "('P004', 'CAT001', 'Animal Sound Book', 'animal_sound_book.jpg', 9.99, 35),\n",
    "('P005', 'CAT001', 'STEM Building Kit', 'stem_building_kit.jpg', 22.50, 25),\n",
    "\n",
    "('P006', 'CAT002', 'Teddy Bear (Large)', 'teddy_bear_large.jpg', 18.99, 60),\n",
    "('P007', 'CAT002', 'Bunny Plush Toy', 'bunny_plush.jpg', 14.99, 45),\n",
    "('P008', 'CAT002', 'Elephant Cuddle Toy', 'elephant_cuddle.jpg', 16.50, 40),\n",
    "('P009', 'CAT002', 'Dinosaur Plush', 'dinosaur_plush.jpg', 20.00, 35),\n",
    "('P010', 'CAT002', 'Panda Stuffed Animal', 'panda_stuffed.jpg', 13.75, 50),\n",
    "\n",
    "('P011', 'CAT003', 'Superhero Action Figure', 'superhero_figure.jpg', 25.00, 30),\n",
    "('P012', 'CAT003', 'Robot Warrior', 'robot_warrior.jpg', 28.99, 20),\n",
    "('P013', 'CAT003', 'Soldier Army Set', 'soldier_army_set.jpg', 15.50, 35),\n",
    "('P014', 'CAT003', 'Fantasy Dragon Figure', 'fantasy_dragon.jpg', 18.75, 25),\n",
    "('P015', 'CAT003', 'Pirate Adventure Set', 'pirate_adventure.jpg', 22.99, 30),\n",
    "\n",
    "('P016', 'CAT004', 'Classic LEGO Set', 'lego_set.jpg', 45.00, 40),\n",
    "('P017', 'CAT004', 'Wooden Blocks Set', 'wooden_blocks.jpg', 19.99, 50),\n",
    "('P018', 'CAT004', 'Magnetic Tiles', 'magnetic_tiles.jpg', 39.50, 30),\n",
    "('P019', 'CAT004', 'Stacking Tower', 'stacking_tower.jpg', 12.99, 60),\n",
    "('P020', 'CAT004', 'Creative Brick Box', 'creative_brick_box.jpg', 34.99, 25);"
   ]
  },
  {
   "cell_type": "markdown",
   "metadata": {},
   "source": [
    "#### Orders Table"
   ]
  },
  {
   "cell_type": "code",
   "execution_count": null,
   "metadata": {
    "vscode": {
     "languageId": "sql"
    }
   },
   "outputs": [],
   "source": [
    "INSERT INTO `Order` (orderID, orderDate, customerID, deliveryDate, deliveryAddress, totalAmount, orderType, paymentStatus) VALUES\n",
    "('O001', '2024-12-03 15:05:13', 'C004', '2024-11-27 02:04:25', 'Hledan, Yangon, Myanmar', 101.82, 'Online', 'Paid'),\n",
    "('O002', '2024-11-26 16:29:18', 'C005', '2024-11-03 00:57:45', 'Tamwe, Yangon, Myanmar', 215.10, 'Online', 'Paid'),\n",
    "('O003', '2024-11-29 03:48:44', 'C016', '2024-12-23 14:53:37', 'Botahtaung, Yangon, Myanmar', 36.22, 'Online', 'Paid'),\n",
    "('O004', '2024-11-05 18:55:47', 'C010', '2024-12-10 07:07:45', 'Pyin Oo Lwin, Mandalay, Myanmar', 228.98, 'Online', 'Paid'),\n",
    "('O005', '2024-12-27 20:48:47', 'C020', '2024-12-01 03:26:33', 'Chan Mya Thazi, Mandalay, Myanmar', 242.02, 'Online', 'Paid'),\n",
    "('O006', '2024-12-03 19:55:28', 'C011', '2024-11-24 17:38:06', 'Shwe Min Wun, Myitkyina, Myanmar', 111.64, 'Online', 'Paid'),\n",
    "('O007', '2024-12-23 08:07:10', 'C001', '2024-11-22 02:22:15', 'Sanchaung, Yangon, Myanmar', 239.13, 'Online', 'Paid'),\n",
    "('O008', '2024-12-19 02:04:29', 'C008', '2024-12-21 18:56:29', 'Random Address', 86.48, 'Online', 'Paid'),\n",
    "('O009', '2024-12-29 20:09:23', 'C017', '2024-11-29 10:44:33', 'Downtown, Yangon, Myanmar', 451.03, 'Online', 'Paid'),\n",
    "('O010', '2024-12-24 05:45:44', 'C013', '2024-11-16 07:53:15', 'Random Address', 273.66, 'Online', 'Paid'),\n",
    "('O011', '2024-12-07 19:52:33', 'C010', '2024-12-16 02:12:29', 'Pyin Oo Lwin, Mandalay, Myanmar', 193.78, 'Online', 'Paid'),\n",
    "('O012', '2024-12-18 19:49:37', 'C015', '2024-11-16 16:52:59', 'Random Address', 115.50, 'Online', 'Paid'),\n",
    "('O013', '2024-12-03 09:51:34', 'C013', '2024-12-19 11:51:21', 'Random Address', 194.72, 'Online', 'Paid'),\n",
    "('O014', '2024-11-14 00:40:53', 'C013', '2024-11-11 12:52:21', 'Random Address', 139.38, 'Online', 'Paid'),\n",
    "('O015', '2024-11-17 04:10:33', 'C020', '2024-11-03 06:24:54', 'Chan Mya Thazi, Mandalay, Myanmar', 42.88, 'Online', 'Paid'),\n",
    "('O016', '2024-11-06 20:00:51', 'C005', '2024-12-12 11:34:16', 'Tamwe, Yangon, Myanmar', 154.12, 'Online', 'Paid'),\n",
    "('O017', '2024-11-18 15:52:10', 'C005', '2024-12-05 17:04:25', 'Tamwe, Yangon, Myanmar', 137.39, 'Online', 'Paid'),\n",
    "('O018', '2024-12-29 01:31:30', 'C005', '2024-12-31 15:00:21', 'Tamwe, Yangon, Myanmar', 249.73, 'Online', 'Paid'),\n",
    "('O019', '2024-11-25 09:26:54', 'C006', '2024-11-24 16:39:32', 'Random Address', 244.97, 'Online', 'Paid'),\n",
    "('O020', '2024-11-06 07:08:41', 'C016', '2024-11-27 03:22:49', 'Botahtaung, Yangon, Myanmar', 311.21, 'Online', 'Paid'),\n",
    "('O021', '2024-11-15 10:44:31', 'C018', '2024-11-04 19:39:34', 'Random Address', 119.67, 'Online', 'Paid'),\n",
    "('O022', '2024-12-16 13:26:24', 'C008', '2024-12-15 15:25:14', 'Random Address', 70.34, 'Online', 'Paid'),\n",
    "('O023', '2024-11-30 06:49:42', 'C016', '2024-12-28 18:48:49', 'Botahtaung, Yangon, Myanmar', 71.40, 'Online', 'Paid'),\n",
    "('O024', '2024-11-15 01:52:51', 'C004', '2024-12-18 06:27:15', 'Hledan, Yangon, Myanmar', 28.62, 'Online', 'Paid'),\n",
    "('O025', '2024-12-04 23:45:31', 'C014', '2024-12-15 17:41:19', 'Random Address', 63.36, 'Online', 'Paid'),\n",
    "('O026', '2024-12-01 12:10:52', 'C017', '2024-12-29 00:43:52', 'Downtown, Yangon, Myanmar', 94.36, 'Online', 'Paid'),\n",
    "('O027', '2024-11-04 10:25:18', 'C015', '2024-12-27 01:31:38', 'Random Address', 151.96, 'Online', 'Paid'),\n",
    "('O028', '2024-11-02 11:57:48', 'C012', '2024-11-23 01:26:21', 'Random Address', 184.40, 'Online', 'Paid'),\n",
    "-- unpaid transaction\n",
    "('O029', '2024-12-31 18:29:31', 'C003', '2024-12-19 08:16:39', 'Mayangone, Yangon, Myanmar', 446.88, 'Online', 'Unpaid'),\n",
    "-- paid transaction\n",
    "('O030', '2024-11-24 15:15:21', 'C019', '2024-12-20 09:46:44', 'Random Address', 280.96, 'Online', 'Paid'),\n",
    "('O031', '2024-11-13 02:55:01', 'C007', '2024-11-13 03:31:41', 'Aungmyaythazan, Mandalay, Myanmar', 212.35, 'Online', 'Paid'),\n",
    "-- unpaid transaction\n",
    "('O032', '2024-12-06 10:09:32', 'C019', '2024-11-04 03:36:05', 'Random Address', 119.70, 'Online', 'Unpaid'),\n",
    "-- paid transaction\n",
    "('O033', '2024-10-31 00:49:08', 'C015', '2024-11-07 21:39:05', 'Random Address', 192.23, 'Online', 'Paid'),\n",
    "('O034', '2024-11-30 04:28:51', 'C017', '2024-12-15 17:01:39', 'Downtown, Yangon, Myanmar', 540.85, 'Online', 'Paid'),\n",
    "('O035', '2024-12-15 07:37:56', 'C010', '2024-11-04 03:45:46', 'Random Address', 110.31, 'Online', 'Paid'),\n",
    "('O036', '2024-11-01 22:07:22', 'C003', '2024-12-28 11:03:13', 'Mayangone, Yangon, Myanmar', 216.80, 'Online', 'Paid'),\n",
    "-- unpaid transaction\n",
    "('O037', '2024-12-28 07:05:05', 'C019', '2024-11-09 11:14:02', 'Random Address', 326.09, 'Online', 'Unpaid'),\n",
    "('O038', '2024-12-04 20:15:04', 'C010', '2024-12-09 16:26:28', 'Random Address', 61.80, 'Online', 'Unpaid'),\n",
    "('O039', '2024-12-06 02:50:06', 'C007', '2024-12-12 23:14:18', 'Aungmyaythazan, Mandalay, Myanmar', 329.58, 'Online', 'Unpaid'),\n",
    "-- paid transaction\n",
    "('O040', '2024-12-10 03:53:00', 'C018', '2024-12-05 12:08', 'Kyauk Myaung, Yangon, Myanmar', 144.95, 'Online', 'Paid'),\n",
    "('O041', '2024-11-27 00:10:10', 'C016', '2024-11-22 14:09', 'Botahtaung, Yangon, Myanmar', 262.97, 'Online', 'Paid'),\n",
    "('O042', '2024-12-06 21:05:20', 'C017', '2024-11-11 09:29', 'Downtown, Yangon, Myanmar', 153.19, 'Online', 'Paid'),\n",
    "('O043', '2024-11-09 07:20:00', 'C017', '2024-12-09 17:27', 'Downtown, Yangon, Myanmar', 216.62, 'Online', 'Paid'),\n",
    "('O044', '2024-11-07 19:33:00', 'C016', '2024-11-25 22:37', 'Botahtaung, Yangon, Myanmar', 97.62, 'Online', 'Paid'),\n",
    "('O045', '2024-11-19 21:04:00', 'C013', '2024-11-01 17:07', 'Du Ka Hta, Myitkyina, Myanmar', 299.00, 'Online', 'Paid'),\n",
    "('O046', '2024-12-30 09:35:00', 'C007', '2024-12-18 05:41', 'Aungmyaythazan, Mandalay, Myanmar', 219.98, 'Online', 'Paid'),\n",
    "('O047', '2024-12-20 01:56:00', 'C020', '2024-12-29 10:29', 'Chan Mya Thazi, Mandalay, Myanmar', 161.93, 'Online', 'Paid'),\n",
    "('O048', '2024-12-22 01:06:00', 'C005', '2024-11-13 12:06', 'Tamwe, Yangon, Myanmar', 173.26, 'Online', 'Paid'),\n",
    "('O049', '2024-11-21 07:01:00', 'C004', '2024-12-22 12:05', 'Hledan, Yangon, Myanmar', 186.96, 'Online', 'Paid'),\n",
    "('O050', '2024-11-26 08:01:00', 'C003', '2024-11-11 06:02', 'Mayangone, Yangon, Myanmar', 220.71, 'Online', 'Paid');"
   ]
  },
  {
   "cell_type": "markdown",
   "metadata": {},
   "source": [
    "#### ProductOrders Table"
   ]
  },
  {
   "cell_type": "code",
   "execution_count": null,
   "metadata": {
    "vscode": {
     "languageId": "sql"
    }
   },
   "outputs": [],
   "source": [
    "-- Insert Product Orders\n",
    "INSERT INTO ProductOrder (productID, orderID, productQty, sellingPrice, totalAmount) VALUES\n",
    "('P010', 'O001', 1, 49.2, 49.2),\n",
    "('P020', 'O001', 2, 26.31, 52.62),\n",
    "('P015', 'O002', 2, 24.47, 48.94),\n",
    "('P017', 'O002', 3, 25.48, 76.44),\n",
    "('P013', 'O002', 2, 44.86, 89.72),\n",
    "('P015', 'O003', 1, 36.22, 36.22),\n",
    "('P020', 'O004', 4, 40.72, 162.88),\n",
    "('P002', 'O004', 2, 33.05, 66.1),\n",
    "('P005', 'O005', 2, 23.51, 47.02),\n",
    "('P013', 'O005', 5, 39.0, 195.0),\n",
    "('P018', 'O006', 4, 27.91, 111.64),\n",
    "('P010', 'O007', 2, 29.19, 58.38),\n",
    "('P014', 'O007', 5, 36.15, 180.75),\n",
    "('P018', 'O008', 1, 13.58, 13.58),\n",
    "('P012', 'O008', 2, 36.45, 72.9),\n",
    "('P008', 'O009', 5, 38.85, 194.25),\n",
    "('P012', 'O009', 5, 42.56, 212.8),\n",
    "('P006', 'O009', 1, 43.98, 43.98),\n",
    "('P013', 'O010', 5, 18.9, 94.5),\n",
    "('P003', 'O010', 4, 44.79, 179.16),\n",
    "('P003', 'O011', 5, 29.36, 146.8),\n",
    "('P008', 'O011', 3, 15.66, 46.98),\n",
    "('P008', 'O012', 1, 26.55, 26.55),\n",
    "('P011', 'O012', 1, 20.69, 20.69),\n",
    "('P013', 'O012', 2, 34.13, 68.26),\n",
    "('P013', 'O013', 4, 48.68, 194.72),\n",
    "('P004', 'O014', 1, 36.6, 36.6),\n",
    "('P006', 'O014', 3, 34.26, 102.78),\n",
    "('P005', 'O015', 1, 42.88, 42.88),\n",
    "('P006', 'O016', 5, 23.45, 117.25),\n",
    "('P009', 'O016', 3, 12.29, 36.87),\n",
    "('P008', 'O017', 2, 46.33, 92.66),\n",
    "('P019', 'O017', 1, 44.73, 44.73),\n",
    "('P020', 'O018', 5, 34.25, 171.25),\n",
    "('P011', 'O018', 2, 25.81, 51.62),\n",
    "('P007', 'O018', 1, 26.86, 26.86),\n",
    "('P016', 'O019', 3, 41.73, 125.19),\n",
    "('P008', 'O019', 1, 14.96, 14.96),\n",
    "('P005', 'O019', 3, 34.94, 104.82),\n",
    "('P018', 'O020', 3, 37.5, 112.5),\n",
    "('P003', 'O020', 2, 14.83, 29.66),\n",
    "('P014', 'O020', 5, 33.81, 169.05),\n",
    "('P019', 'O021', 3, 39.89, 119.67),\n",
    "('P003', 'O022', 2, 35.17, 70.34),\n",
    "('P010', 'O023', 5, 14.28, 71.40),\n",
    "('P007', 'O024', 1, 28.62, 28.62),\n",
    "('P011', 'O025', 1, 23.19, 23.19),\n",
    "('P003', 'O025', 1, 11.45, 11.45),\n",
    "('P001', 'O025', 2, 14.36, 28.72),\n",
    "('P010', 'O026', 2, 47.18, 94.36),\n",
    "('P018', 'O027', 4, 37.99, 151.96),\n",
    "('P020', 'O028', 1, 29.49, 29.49),\n",
    "('P009', 'O028', 3, 35.1, 105.30),\n",
    "('P001', 'O028', 1, 49.61, 49.61),\n",
    "('P013', 'O029', 5, 36.95, 184.75),\n",
    "('P017', 'O029', 3, 47.39, 142.17),\n",
    "('P019', 'O029', 4, 29.99, 119.96),\n",
    "('P020', 'O030', 5, 37.1, 185.50),\n",
    "('P008', 'O030', 3, 31.82, 95.46),\n",
    "('P005', 'O031', 4, 38.4, 153.6),\n",
    "('P017', 'O031', 1, 19.95, 19.95),\n",
    "('P012', 'O031', 1, 38.8, 38.8),\n",
    "('P012', 'O032', 3, 18.5, 55.5),\n",
    "('P009', 'O032', 2, 32.1, 64.2),\n",
    "('P013', 'O033', 5, 22.26, 111.3),\n",
    "('P014', 'O033', 4, 15.49, 61.96),\n",
    "('P005', 'O033', 1, 18.97, 18.97),\n",
    "('P001', 'O034', 3, 47.9, 143.7),\n",
    "('P014', 'O034', 5, 47.11, 235.55),\n",
    "('P007', 'O034', 4, 40.4, 161.6),\n",
    "('P020', 'O035', 3, 17.77, 53.31),\n",
    "('P018', 'O035', 2, 28.5, 57),\n",
    "('P008', 'O036', 5, 43.36, 216.8),\n",
    "('P015', 'O037', 4, 16.63, 66.52),\n",
    "('P004', 'O037', 5, 32.81, 164.05),\n",
    "('P006', 'O037', 3, 31.84, 95.52),\n",
    "('P008', 'O038', 3, 20.6, 61.8),\n",
    "('P014', 'O039', 2, 12.21, 24.42),\n",
    "('P015', 'O039', 4, 25.74, 102.96),\n",
    "('P013', 'O039', 5, 40.44, 202.2),\n",
    "('P017', 'O040', 3, 41.7, 125.1),\n",
    "('P006', 'O040', 1, 19.85, 19.85),\n",
    "('P009', 'O041', 5, 32.14, 160.7),\n",
    "('P001', 'O041', 2, 43.4, 86.8),\n",
    "('P015', 'O041', 1, 15.47, 15.47),\n",
    "('P006', 'O042', 2, 46.22, 92.44),\n",
    "('P010', 'O042', 5, 12.15, 60.75),\n",
    "('P019', 'O043', 2, 40.75, 81.5),\n",
    "('P008', 'O043', 2, 17.04, 34.08),\n",
    "('P017', 'O043', 3, 33.68, 101.04),\n",
    "('P013', 'O044', 2, 48.81, 97.62),\n",
    "('P010', 'O045', 5, 13.28, 66.4),\n",
    "('P012', 'O045', 4, 26.11, 104.44),\n",
    "('P001', 'O045', 4, 32.04, 128.16),\n",
    "('P010', 'O046', 2, 24.99, 49.98),\n",
    "('P006', 'O046', 4, 22.67, 90.68),\n",
    "('P004', 'O046', 4, 19.83, 79.32),\n",
    "('P009', 'O047', 1, 46.1, 46.1),\n",
    "('P010', 'O047', 2, 36.64, 73.28),\n",
    "('P020', 'O047', 1, 42.55, 42.55),\n",
    "('P004', 'O048', 1, 17.1, 17.1),\n",
    "('P015', 'O048', 2, 19.56, 39.12),\n",
    "('P002', 'O048', 4, 29.26, 117.04),\n",
    "('P004', 'O049', 2, 14.71, 29.42),\n",
    "('P007', 'O049', 4, 25.61, 102.44),\n",
    "('P019', 'O049', 5, 11.02, 55.1),\n",
    "('P006', 'O050', 3, 30.73, 92.19),\n",
    "('P013', 'O050', 2, 46.79, 93.58),\n",
    "('P017', 'O050', 1, 34.94, 34.94);"
   ]
  },
  {
   "cell_type": "markdown",
   "metadata": {},
   "source": [
    "#### Customer Payment Table"
   ]
  },
  {
   "cell_type": "code",
   "execution_count": null,
   "metadata": {
    "vscode": {
     "languageId": "sql"
    }
   },
   "outputs": [],
   "source": [
    "INSERT INTO CustomerPayment (customerPaymentID, orderID, paymentMethod, paymentAmount, paymentDate) VALUES\n",
    "('CP001', 'O001', 'Bank Transfer', 101.82, '2024-11-27 02:04:25'),\n",
    "('CP002', 'O002', 'Cash', 215.10, '2024-11-03 00:57:45'),\n",
    "('CP003', 'O003', 'Credit Card', 36.22, '2024-12-23 14:53:37'),\n",
    "('CP004', 'O004', 'Mobile Payment', 228.98, '2024-12-10 07:07:45'),\n",
    "('CP005', 'O005', 'Cash', 242.02, '2024-12-01 03:26:33'),\n",
    "('CP006', 'O006', 'Credit Card', 111.64, '2024-11-24 17:38:06'),\n",
    "('CP007', 'O007', 'Bank Transfer', 239.13, '2024-11-22 02:22:15'),\n",
    "('CP008', 'O008', 'Cash', 86.48, '2024-12-21 18:56:29'),\n",
    "('CP009', 'O009', 'Credit Card', 451.03, '2024-11-29 10:44:33'),\n",
    "('CP010', 'O010', 'Mobile Payment', 273.66, '2024-11-16 07:53:15'),\n",
    "('CP011', 'O011', 'Bank Transfer', 193.78, '2024-12-16 02:12:29'),\n",
    "('CP012', 'O012', 'Cash', 115.50, '2024-11-16 16:52:59'),\n",
    "('CP013', 'O013', 'Credit Card', 194.72, '2024-12-19 11:51:21'),\n",
    "('CP014', 'O014', 'Bank Transfer', 139.38, '2024-11-11 12:52:21'),\n",
    "('CP015', 'O015', 'Cash', 42.88, '2024-11-03 06:24:54'),\n",
    "('CP016', 'O016', 'Credit Card', 154.12, '2024-12-12 11:34:16'),\n",
    "('CP017', 'O017', 'Mobile Payment', 137.39, '2024-12-05 17:04:25'),\n",
    "('CP018', 'O018', 'Bank Transfer', 249.73, '2024-12-31 15:00:21'),\n",
    "('CP019', 'O019', 'Cash', 244.97, '2024-11-24 16:39:32'),\n",
    "('CP020', 'O020', 'Credit Card', 311.21, '2024-11-27 03:22:49'),\n",
    "('CP021', 'O021', 'Mobile Payment', 119.67, '2024-11-04 19:39:34'),\n",
    "('CP022', 'O022', 'Bank Transfer', 70.34, '2024-12-15 15:25:14'),\n",
    "('CP023', 'O023', 'Cash', 71.40, '2024-12-28 18:48:49'),\n",
    "('CP024', 'O024', 'Credit Card', 28.62, '2024-12-18 06:27:15'),\n",
    "('CP025', 'O025', 'Bank Transfer', 63.36, '2024-12-15 17:41:19'),\n",
    "('CP026', 'O026', 'Mobile Payment', 94.36, '2024-12-29 00:43:52'),\n",
    "('CP027', 'O027', 'Credit Card', 151.96, '2024-12-27 01:31:38'),\n",
    "('CP028', 'O028', 'Cash', 184.40, '2024-11-23 01:26:21'),\n",
    "('CP030', 'O030', 'Bank Transfer', 280.96, '2024-12-20 09:46:44'),\n",
    "('CP031', 'O031', 'Credit Card', 212.35, '2024-11-13 03:31:41'),\n",
    "('CP033', 'O033', 'Cash', 192.23, '2024-11-07 21:39:05'),\n",
    "('CP034', 'O034', 'Bank Transfer', 540.85, '2024-12-15 17:01:39'),\n",
    "('CP035', 'O035', 'Mobile Payment', 110.31, '2024-11-04 03:45:46'),\n",
    "('CP036', 'O036', 'Credit Card', 216.80, '2024-12-28 11:03:13'),\n",
    "('CP040', 'O040', 'Bank Transfer', 144.95, '2024-12-05 12:08'),\n",
    "('CP041', 'O041', 'Cash', 262.97, '2024-11-22 14:09'),\n",
    "('CP042', 'O042', 'Credit Card', 153.19, '2024-11-11 09:29'),\n",
    "('CP043', 'O043', 'Cash', 216.62, '2024-12-09 17:27'),\n",
    "('CP044', 'O044', 'Mobile Payment', 97.62, '2024-11-25 22:37'),\n",
    "('CP045', 'O045', 'Mobile Payment', 299.00, '2024-11-01 17:07'),\n",
    "('CP046', 'O046', 'Mobile Payment', 219.98, '2024-12-18 05:41'),\n",
    "('CP047', 'O047', 'Mobile Payment', 161.93, '2024-12-29 10:29'),\n",
    "('CP048', 'O048', 'Bank Transfer', 173.26, '2024-11-13 12:06'),\n",
    "('CP049', 'O049', 'Cash', 186.96, '2024-12-22 12:05'),\n",
    "('CP050', 'O050', 'Mobile Payment', 220.71, '2024-11-11 06:02');"
   ]
  },
  {
   "cell_type": "markdown",
   "metadata": {},
   "source": [
    "####  Purchasae Table"
   ]
  },
  {
   "cell_type": "code",
   "execution_count": null,
   "metadata": {
    "vscode": {
     "languageId": "sql"
    }
   },
   "outputs": [],
   "source": [
    "INSERT INTO Purchase (purchaseID, purchaseDate, supplierID, productID, purchaseQty, unitPurchasePrice, totalPurchaseAmount) VALUES\n",
    "('PU001', '2024-11-12 14:35:00', 'S003', 'P012', 55, 9.32, 512.45),\n",
    "('PU002', '2024-12-05 09:20:00', 'S001', 'P007', 75, 8.44, 632.78),\n",
    "('PU003', '2024-10-25 17:50:00', 'S005', 'P019', 60, 7.01, 420.67),\n",
    "('PU004', '2024-11-18 11:10:00', 'S002', 'P008', 40, 9.72, 388.92),\n",
    "('PU005', '2024-12-02 15:30:00', 'S004', 'P011', 90, 7.95, 715.30),\n",
    "('PU006', '2024-10-30 08:45:00', 'S002', 'P015', 30, 9.52, 285.50),\n",
    "('PU007', '2024-11-22 12:25:00', 'S003', 'P017', 50, 8.65, 432.60),\n",
    "('PU008', '2024-12-15 10:00:00', 'S005', 'P003', 70, 8.73, 610.89),\n",
    "('PU009', '2024-11-10 14:40:00', 'S001', 'P006', 45, 10.89, 490.20),\n",
    "('PU010', '2024-12-20 16:55:00', 'S004', 'P018', 85, 8.77, 745.75);\n"
   ]
  },
  {
   "cell_type": "markdown",
   "metadata": {},
   "source": [
    "####  Supplier Payment Table"
   ]
  },
  {
   "cell_type": "code",
   "execution_count": null,
   "metadata": {
    "vscode": {
     "languageId": "sql"
    }
   },
   "outputs": [],
   "source": [
    "INSERT INTO SupplierPayment (supplierPaymentID, purchaseID, paymentDate, paymentAmount, remainingAmount,paymentStatus) VALUES\n",
    "('SP001', 'PU001', '2024-11-12 14:35:00', 410.00, 102.45,'Unpaid'), -- Unpaid\n",
    "('SP002', 'PU002', '2024-12-05 09:20:00', 500.00, 132.78,'Unpaid'), -- Unpaid\n",
    "('SP003', 'PU003', '2024-10-25 17:50:00', 300.00, 120.67,'Unpaid'), -- Unpaid\n",
    "('SP004', 'PU004', '2024-11-18 11:10:00', 388.92, 0.00,'Paid'),\n",
    "('SP005', 'PU005', '2024-12-02 15:30:00', 715.30, 0.00,'Paid'),\n",
    "('SP006', 'PU006', '2024-10-30 08:45:00', 285.50, 0.00,'Paid'),\n",
    "('SP007', 'PU007', '2024-11-22 12:25:00', 432.60, 0.00,'Paid'),\n",
    "('SP008', 'PU008', '2024-12-15 10:00:00', 610.89, 0.00,'Paid'),\n",
    "('SP009', 'PU009', '2024-11-10 14:40:00', 490.20, 0.00,'Paid'),\n",
    "('SP010', 'PU010', '2024-12-20 16:55:00', 745.75, 0.00,'Paid');"
   ]
  },
  {
   "cell_type": "markdown",
   "metadata": {},
   "source": [
    "## 3. SQL Query"
   ]
  },
  {
   "cell_type": "markdown",
   "metadata": {},
   "source": [
    "#### 1. Understanding your products"
   ]
  },
  {
   "cell_type": "code",
   "execution_count": null,
   "metadata": {
    "vscode": {
     "languageId": "sql"
    }
   },
   "outputs": [],
   "source": [
    "-- top 3 best selling product items\n",
    "SELECT p.productID, p.productName, SUM(po.productQty) AS total_sold\n",
    "FROM ProductOrder po\n",
    "JOIN Product p ON po.productID = p.productID\n",
    "GROUP BY p.productID, p.productName\n",
    "ORDER BY total_sold DESC\n",
    "LIMIT 3;"
   ]
  },
  {
   "cell_type": "markdown",
   "metadata": {},
   "source": [
    "Explanation:  \n",
    "Joins ProductOrder with Product to get product details.  \n",
    "Sums up the productQty to calculate the total quantity sold.  \n",
    "Orders by total_sold in descending order to get the best-selling products.  \n",
    "Limits the result to the top 3 products.  "
   ]
  },
  {
   "cell_type": "markdown",
   "metadata": {},
   "source": [
    "#### 2. Controlling the Payments (customers and vendors)"
   ]
  },
  {
   "cell_type": "code",
   "execution_count": null,
   "metadata": {
    "vscode": {
     "languageId": "sql"
    }
   },
   "outputs": [],
   "source": [
    "-- [customer] get the unpaid orderID and amount\n",
    "SELECT o.customerID, c.customerName, o.orderID, o.totalAmount\n",
    "FROM `Order` o\n",
    "JOIN Customer c ON o.customerID = c.customerID\n",
    "WHERE o.paymentStatus = 'Unpaid'\n",
    "ORDER BY o.totalAmount DESC;"
   ]
  },
  {
   "cell_type": "markdown",
   "metadata": {},
   "source": [
    "Explanation:  \n",
    "Joins the Order table with Customer to get customer details.  \n",
    "Filters only unpaid orders (paymentStatus = 'Unpaid').  \n",
    "Displays customerID, customerName, orderID, and totalAmount.  \n",
    "Orders by totalAmount in descending order to show the highest unpaid amounts first.  "
   ]
  },
  {
   "cell_type": "code",
   "execution_count": null,
   "metadata": {
    "vscode": {
     "languageId": "sql"
    }
   },
   "outputs": [],
   "source": [
    "-- [customer] make payment for the unpaid order\n",
    "        -- unpaid transaction\n",
    "        -- ('O029', '2024-12-31 18:29:31', 'C003', '2024-12-19 08:16:39', 'Mayangone, Yangon, Myanmar', 446.88, 'Online', 'UnPaid')\n",
    "-- 1. insert the payment transaction to the customerPayment table\n",
    "INSERT INTO CustomerPayment (customerPaymentID, orderID, paymentMethod, paymentAmount, paymentDate)\n",
    "VALUES ('CP029', 'O029', 'Credit Card', 446.88, '2024-12-19 08:16:39');\n",
    "\n",
    "-- 2. update the payment status in the order table\n",
    "UPDATE `Order`\n",
    "SET paymentStatus = 'Paid'\n",
    "WHERE orderID = 'O029';\n"
   ]
  },
  {
   "cell_type": "markdown",
   "metadata": {},
   "source": [
    "Explanation:  \n",
    "- First query updates the Order table to change paymentStatus from 'UnPaid' to 'Paid'.  \n",
    "- Second query inserts a record into CustomerPayment:  \n",
    "  - customerPaymentID is generated as CP029 (matching O029).  \n",
    "  - paymentAmount is 446.88 (same as the order's totalAmount).  \n",
    "  - paymentDate is 2024-12-19 08:16:39 (same as order delivery date).  \n",
    "  - paymentMethod is set to \"Credit Card\" (you can change this).  "
   ]
  },
  {
   "cell_type": "code",
   "execution_count": null,
   "metadata": {
    "vscode": {
     "languageId": "sql"
    }
   },
   "outputs": [],
   "source": [
    "-- [vendor] get the unpaid orderID and amount\n",
    "SELECT p.supplierID, s.supplierName, p.purchaseID, sp.remainingAmount\n",
    "FROM Purchase p\n",
    "JOIN Supplier s ON p.supplierID = s.supplierID\n",
    "JOIN SupplierPayment sp ON p.purchaseID = sp.purchaseID\n",
    "WHERE sp.remainingAmount > 0\n",
    "ORDER BY sp.remainingAmount DESC;"
   ]
  },
  {
   "cell_type": "markdown",
   "metadata": {},
   "source": [
    "Explanation:  \n",
    "Joins the Purchase table with Supplier to get vendor details.  \n",
    "Joins with SupplierPayment to check the remaining unpaid amount.  \n",
    "Filters only unpaid purchase orders (remainingAmount > 0).  \n",
    "Orders by remainingAmount in descending order to show the highest unpaid amounts first.  "
   ]
  },
  {
   "cell_type": "markdown",
   "metadata": {},
   "source": [
    "#### 3. Understanding vendors"
   ]
  },
  {
   "cell_type": "markdown",
   "metadata": {},
   "source": [
    "How many vendors do you have according to the region?"
   ]
  },
  {
   "cell_type": "code",
   "execution_count": null,
   "metadata": {
    "vscode": {
     "languageId": "sql"
    }
   },
   "outputs": [],
   "source": [
    "-- count the number of vendors from different countries.\n",
    "SELECT supplierCountry, COUNT(supplierID) AS vendor_count\n",
    "FROM Supplier\n",
    "GROUP BY supplierCountry\n",
    "ORDER BY vendor_count DESC;"
   ]
  },
  {
   "cell_type": "markdown",
   "metadata": {},
   "source": [
    "Explanation:  \n",
    "Groups suppliers by supplierCountry.  \n",
    "Counts the number of vendors (supplierID) per country.  \n",
    "Orders by vendor_count in descending order to show the countries with the most vendors first.  "
   ]
  },
  {
   "cell_type": "markdown",
   "metadata": {},
   "source": [
    "#### 4. Understanding the Orders"
   ]
  },
  {
   "cell_type": "code",
   "execution_count": null,
   "metadata": {
    "vscode": {
     "languageId": "sql"
    }
   },
   "outputs": [],
   "source": [
    "-- How many orders do you have in total?\n",
    "SELECT COUNT(orderID) AS total_orders\n",
    "FROM `Order`;"
   ]
  },
  {
   "cell_type": "markdown",
   "metadata": {},
   "source": [
    "Explanation:  \n",
    "Counts the number of orderIDs from the Order table.  \n",
    "Returns the total number of orders as total_orders.  "
   ]
  },
  {
   "cell_type": "code",
   "execution_count": null,
   "metadata": {
    "vscode": {
     "languageId": "sql"
    }
   },
   "outputs": [],
   "source": [
    "-- Calcualte the Total Sales for each month\n",
    "SELECT DATE_FORMAT(orderDate, '%Y-%m') AS sales_month, \n",
    "       SUM(totalAmount) AS total_sales\n",
    "FROM `Order`\n",
    "GROUP BY sales_month\n",
    "ORDER BY sales_month;\n"
   ]
  },
  {
   "cell_type": "markdown",
   "metadata": {},
   "source": [
    " Explanation:  \n",
    "Uses DATE_FORMAT(orderDate, '%Y-%m') to extract the year and month from orderDate.  \n",
    "Sums up totalAmount for each month to calculate total sales.  \n",
    "Groups results by sales_month to get monthly totals.  \n",
    "Orders the results by sales_month in chronological order.  "
   ]
  },
  {
   "cell_type": "markdown",
   "metadata": {},
   "source": [
    "========   End of Assignment   ========"
   ]
  },
  {
   "cell_type": "markdown",
   "metadata": {},
   "source": []
  }
 ],
 "metadata": {
  "kernelspec": {
   "display_name": "Python 3",
   "language": "python",
   "name": "python3"
  },
  "language_info": {
   "codemirror_mode": {
    "name": "ipython",
    "version": 3
   },
   "file_extension": ".py",
   "mimetype": "text/x-python",
   "name": "python",
   "nbconvert_exporter": "python",
   "pygments_lexer": "ipython3",
   "version": "3.11.9"
  }
 },
 "nbformat": 4,
 "nbformat_minor": 2
}
