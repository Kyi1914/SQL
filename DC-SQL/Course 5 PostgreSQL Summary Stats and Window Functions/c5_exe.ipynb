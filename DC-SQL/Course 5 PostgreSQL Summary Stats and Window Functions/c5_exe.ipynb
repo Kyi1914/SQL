{
 "cells": [
  {
   "cell_type": "markdown",
   "metadata": {},
   "source": [
    "# Course 5 Exercise"
   ]
  },
  {
   "cell_type": "markdown",
   "metadata": {},
   "source": [
    "## Chapter 1"
   ]
  },
  {
   "cell_type": "markdown",
   "metadata": {},
   "source": [
    "### 1.1 Introduction"
   ]
  },
  {
   "cell_type": "markdown",
   "metadata": {},
   "source": [
    "#### 1.1.1 Numbering rows"
   ]
  },
  {
   "cell_type": "markdown",
   "metadata": {},
   "source": [
    "The simplest application for window functions is numbering rows. Numbering rows allows you to easily fetch the nth row. For example, it would be very difficult to get the 35th row in any given table if you didn't have a column with each row's number."
   ]
  },
  {
   "cell_type": "code",
   "execution_count": null,
   "metadata": {
    "vscode": {
     "languageId": "sql"
    }
   },
   "outputs": [],
   "source": [
    "SELECT\n",
    "  *,\n",
    "  -- Assign numbers to each row\n",
    "  ROW_NUMBER() OVER() AS Row_N\n",
    "FROM Summer_Medals\n",
    "ORDER BY Row_N ASC;"
   ]
  },
  {
   "cell_type": "markdown",
   "metadata": {},
   "source": [
    "#### 1.1.2 Numbering Olympic games in ascending order"
   ]
  },
  {
   "cell_type": "markdown",
   "metadata": {},
   "source": [
    "The Summer Olympics dataset contains the results of the games between 1896 and 2012. The first Summer Olympics were held in 1896, the second in 1900, and so on. What if you want to easily query the table to see in which year the 13th Summer Olympics were held? You'd need to number the rows for that."
   ]
  },
  {
   "cell_type": "code",
   "execution_count": null,
   "metadata": {
    "vscode": {
     "languageId": "sql"
    }
   },
   "outputs": [],
   "source": [
    "-- Assign a number to each year in which Summer Olympic games were held.\n",
    "SELECT\n",
    "  Year,\n",
    "\n",
    "  -- Assign numbers to each year\n",
    "  ROW_NUMBER() OVER() AS Row_N\n",
    "FROM (\n",
    "  SELECT DISTINCT Year\n",
    "  FROM Summer_Medals\n",
    "  ORDER BY Year ASC\n",
    ") AS Years\n",
    "ORDER BY Year ASC;\n"
   ]
  },
  {
   "cell_type": "markdown",
   "metadata": {},
   "source": [
    "### 1.2 ORDER BY"
   ]
  },
  {
   "cell_type": "markdown",
   "metadata": {},
   "source": [
    "#### 1.2.1 Numbering Olympic games in descending order"
   ]
  },
  {
   "cell_type": "markdown",
   "metadata": {},
   "source": [
    "You've already numbered the rows in the Summer Medals dataset. What if you need to reverse the row numbers so that the most recent Olympic games' rows have a lower number?"
   ]
  },
  {
   "cell_type": "code",
   "execution_count": null,
   "metadata": {
    "vscode": {
     "languageId": "sql"
    }
   },
   "outputs": [],
   "source": [
    "-- Assign a number to each year in which Summer Olympic games were held so that rows with the most recent years have lower row numbers.\n",
    "SELECT\n",
    "  Year,\n",
    "  -- Assign the lowest numbers to the most recent years\n",
    "  ROW_NUMBER() OVER (ORDER BY Year DESC) AS Row_N\n",
    "FROM (\n",
    "  SELECT DISTINCT Year\n",
    "  FROM Summer_Medals\n",
    ") AS Years\n",
    "ORDER BY Year;"
   ]
  },
  {
   "cell_type": "markdown",
   "metadata": {},
   "source": [
    "#### 1.2.2 Numbering Olympic athletes by medals earned"
   ]
  },
  {
   "cell_type": "markdown",
   "metadata": {},
   "source": [
    "Row numbering can also be used for ranking. For example, numbering rows and ordering by the count of medals each athlete earned in the OVER clause will assign 1 to the highest-earning medalist, 2 to the second highest-earning medalist, and so on."
   ]
  },
  {
   "cell_type": "code",
   "execution_count": null,
   "metadata": {
    "vscode": {
     "languageId": "sql"
    }
   },
   "outputs": [],
   "source": [
    "SELECT\n",
    "  -- Count the number of medals each athlete has earned\n",
    "  Athlete,\n",
    "  COUNT(year) AS Medals\n",
    "FROM Summer_Medals\n",
    "GROUP BY Athlete\n",
    "ORDER BY Medals DESC;"
   ]
  },
  {
   "cell_type": "code",
   "execution_count": null,
   "metadata": {
    "vscode": {
     "languageId": "sql"
    }
   },
   "outputs": [],
   "source": [
    "WITH Athlete_Medals AS (\n",
    "  SELECT\n",
    "    -- Count the number of medals each athlete has earned\n",
    "    Athlete,\n",
    "    COUNT(*) AS Medals\n",
    "  FROM Summer_Medals\n",
    "  GROUP BY Athlete)\n",
    "\n",
    "SELECT\n",
    "  -- Number each athlete by how many medals they've earned\n",
    "  Athlete,\n",
    "  ROW_NUMBER() OVER (ORDER BY Medals DESC) AS Row_N\n",
    "FROM Athlete_Medals\n",
    "ORDER BY Medals DESC;"
   ]
  },
  {
   "cell_type": "markdown",
   "metadata": {},
   "source": [
    "#### 1.2.3 Reigning weightlifting champions"
   ]
  },
  {
   "cell_type": "markdown",
   "metadata": {},
   "source": [
    "A reigning champion is a champion who's won both the previous and current years' competitions. To determine if a champion is reigning, the previous and current years' results need to be in the same row, in two different columns."
   ]
  },
  {
   "cell_type": "code",
   "execution_count": null,
   "metadata": {
    "vscode": {
     "languageId": "sql"
    }
   },
   "outputs": [],
   "source": [
    "-- Return each year's gold medalists in the Men's 69KG weightlifting competition.\n",
    "SELECT\n",
    "  -- Return each year's champions' countries\n",
    "  year,\n",
    "  country AS champion\n",
    "FROM Summer_Medals\n",
    "WHERE\n",
    "  Discipline = 'Weightlifting' AND\n",
    "  Event = '69KG' AND\n",
    "  Gender = 'Men' AND\n",
    "  Medal = 'Gold';"
   ]
  },
  {
   "cell_type": "code",
   "execution_count": null,
   "metadata": {
    "vscode": {
     "languageId": "sql"
    }
   },
   "outputs": [],
   "source": [
    "WITH Weightlifting_Gold AS (\n",
    "  SELECT\n",
    "    -- Return each year's champions' countries\n",
    "    Year,\n",
    "    Country AS champion\n",
    "  FROM Summer_Medals\n",
    "  WHERE\n",
    "    Discipline = 'Weightlifting' AND\n",
    "    Event = '69KG' AND\n",
    "    Gender = 'Men' AND\n",
    "    Medal = 'Gold')\n",
    "\n",
    "SELECT\n",
    "  Year, Champion,\n",
    "  -- Fetch the previous year's champion\n",
    "  LAG(Champion) OVER\n",
    "    (ORDER BY year ASC) AS Last_Champion\n",
    "FROM Weightlifting_Gold\n",
    "ORDER BY Year ASC;"
   ]
  },
  {
   "cell_type": "markdown",
   "metadata": {},
   "source": [
    "### 1.3 PARTITION BY"
   ]
  },
  {
   "cell_type": "markdown",
   "metadata": {},
   "source": [
    "#### 1.3.1 Reigning champions by gender"
   ]
  },
  {
   "cell_type": "markdown",
   "metadata": {},
   "source": [
    "You've already fetched the previous year's champion for one event. However, if you have multiple events, genders, or other metrics as columns, you'll need to split your table into partitions to avoid having a champion from one event or gender appear as the previous champion of another event or gender."
   ]
  },
  {
   "cell_type": "code",
   "execution_count": null,
   "metadata": {
    "vscode": {
     "languageId": "sql"
    }
   },
   "outputs": [],
   "source": [
    "-- Return the previous champions of each year's event by gender.\n",
    "WITH Tennis_Gold AS (\n",
    "  SELECT DISTINCT\n",
    "    Gender, Year, Country\n",
    "  FROM Summer_Medals\n",
    "  WHERE\n",
    "    Year >= 2000 AND\n",
    "    Event = 'Javelin Throw' AND\n",
    "    Medal = 'Gold')\n",
    "\n",
    "SELECT\n",
    "  Gender, Year,\n",
    "  Country AS Champion,\n",
    "  -- Fetch the previous year's champion by gender\n",
    "  LAG(country) OVER (\n",
    "            PARTITION BY Gender\n",
    "            ORDER BY Year ASC) AS Last_Champion\n",
    "FROM Tennis_Gold\n",
    "ORDER BY Gender ASC, Year ASC;"
   ]
  },
  {
   "cell_type": "markdown",
   "metadata": {},
   "source": [
    "#### 1.3.2 Reigning champions by gender and event\n"
   ]
  },
  {
   "cell_type": "markdown",
   "metadata": {},
   "source": [
    "In the previous exercise, you partitioned by gender to ensure that data about one gender doesn't get mixed into data about the other gender. If you have multiple columns, however, partitioning by only one of them will still mix the results of the other columns."
   ]
  },
  {
   "cell_type": "code",
   "execution_count": null,
   "metadata": {
    "vscode": {
     "languageId": "sql"
    }
   },
   "outputs": [],
   "source": [
    "-- Return the previous champions of each year's events by gender and event\n",
    "WITH Athletics_Gold AS (\n",
    "  SELECT DISTINCT\n",
    "    Gender, Year, Event, Country\n",
    "  FROM Summer_Medals\n",
    "  WHERE\n",
    "    Year >= 2000 AND\n",
    "    Discipline = 'Athletics' AND\n",
    "    Event IN ('100M', '10000M') AND\n",
    "    Medal = 'Gold')\n",
    "\n",
    "SELECT\n",
    "  Gender, Year, Event,\n",
    "  Country AS Champion,\n",
    "  -- Fetch the previous year's champion by gender and event\n",
    " LAG(Country) OVER (PARTITION BY Gender, Event\n",
    "            ORDER BY Year ASC) AS Last_Champion\n",
    "FROM Athletics_Gold\n",
    "ORDER BY Event ASC, Gender ASC, Year ASC;"
   ]
  },
  {
   "cell_type": "markdown",
   "metadata": {},
   "source": [
    "## Chapter 2"
   ]
  },
  {
   "cell_type": "markdown",
   "metadata": {},
   "source": [
    "## Chapter 3"
   ]
  },
  {
   "cell_type": "markdown",
   "metadata": {},
   "source": [
    "## Chapter 4"
   ]
  },
  {
   "cell_type": "markdown",
   "metadata": {},
   "source": []
  }
 ],
 "metadata": {
  "kernelspec": {
   "display_name": "Python 3",
   "language": "python",
   "name": "python3"
  },
  "language_info": {
   "codemirror_mode": {
    "name": "ipython",
    "version": 3
   },
   "file_extension": ".py",
   "mimetype": "text/x-python",
   "name": "python",
   "nbconvert_exporter": "python",
   "pygments_lexer": "ipython3",
   "version": "3.11.9"
  }
 },
 "nbformat": 4,
 "nbformat_minor": 2
}
