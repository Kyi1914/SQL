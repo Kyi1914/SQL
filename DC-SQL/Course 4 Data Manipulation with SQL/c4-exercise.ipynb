{
 "cells": [
  {
   "cell_type": "code",
   "execution_count": 4,
   "metadata": {
    "vscode": {
     "languageId": "sql"
    }
   },
   "outputs": [],
   "source": [
    "-- -- Enable the ipython-sql extension in your Jupyter Notebook:\n",
    "-- %load_ext sql"
   ]
  },
  {
   "cell_type": "markdown",
   "metadata": {},
   "source": [
    "## CHAPTER 1"
   ]
  },
  {
   "cell_type": "markdown",
   "metadata": {},
   "source": [
    "### 1.1 CASE"
   ]
  },
  {
   "cell_type": "markdown",
   "metadata": {},
   "source": [
    "#### 1.1.1 CASE statements comparing column values"
   ]
  },
  {
   "cell_type": "markdown",
   "metadata": {},
   "source": [
    "\n",
    "Barcelona is considered one of the strongest teams in Spain's soccer league.\n",
    "\n",
    "In this exercise, you will be creating a list of matches in the 2011/2012 season where Barcelona was the home team. You will do this using a CASE statement that compares the values of two columns to create a new group -- wins, losses, and ties.\n",
    "\n",
    "In 3 steps, you will build a query that identifies a match's winner, identifies the identity of the opponent, and finally filters for Barcelona as the home team. Completing a query in this order will allow you to watch your results take shape with each new piece of information.\n",
    "\n",
    "The matches_spain table currently contains Barcelona's matches from the 2011/2012 season, and has two key columns, hometeam_id and awayteam_id, that can be joined with the teams_spain table. However, you can only join teams_spain to one column at a time."
   ]
  },
  {
   "cell_type": "code",
   "execution_count": null,
   "metadata": {
    "vscode": {
     "languageId": "sql"
    }
   },
   "outputs": [],
   "source": [
    "-- # Select the date of the match and create a CASE statement to identify matches as home wins, home losses, or ties.\n",
    "SELECT \n",
    "\t-- Select the date of the match\n",
    "\tdate,\n",
    "\t-- Identify home wins, losses, or ties\n",
    "\tCASE WHEN home_goal > away_goal THEN 'Home win!'\n",
    "        WHEN home_goal < away_goal THEN 'Home loss :(' \n",
    "        ELSE 'Tie' END AS outcome\n",
    "FROM matches_spain;"
   ]
  },
  {
   "cell_type": "code",
   "execution_count": null,
   "metadata": {
    "vscode": {
     "languageId": "sql"
    }
   },
   "outputs": [],
   "source": [
    "-- Left join the teams_spain table team_api_id column to the matches_spain table awayteam_id. This allows us to retrieve the away team's identity.\n",
    "-- Select team_long_name from teams_spain as opponent and complete the CASE statement from Step 1.\n",
    "\n",
    "SELECT \n",
    "\tm.date,\n",
    "\t--Select the team long name column and call it 'opponent'\n",
    "\tt.team_long_name AS opponent, \n",
    "\t-- Complete the CASE statement with an alias\n",
    "\tCASE WHEN m.home_goal > m.away_goal THEN 'Home win!'\n",
    "        WHEN m.home_goal < m.away_goal THEN 'Home loss :('\n",
    "        ELSE 'Tie' END AS outcome\n",
    "FROM matches_spain AS m\n",
    "-- Left join teams_spain onto matches_spain\n",
    "LEFT JOIN teams_spain AS t\n",
    "ON m.awayteam_id = t.team_api_id;"
   ]
  },
  {
   "cell_type": "code",
   "execution_count": null,
   "metadata": {
    "vscode": {
     "languageId": "sql"
    }
   },
   "outputs": [],
   "source": [
    "-- Complete the same CASE statement as the previous steps.\n",
    "-- Filter for matches where the home team is FC Barcelona (id = 8634). \n",
    "SELECT \n",
    "\tm.date,\n",
    "\tt.team_long_name AS opponent,\n",
    "    -- Complete the CASE statement with an alias\n",
    "\tCASE WHEN m.home_goal > m.away_goal THEN 'Barcelona win!'\n",
    "        WHEN m.home_goal < m.away_goal THEN 'Barcelona loss :(' \n",
    "        ELSE 'Tie' END AS outcome \n",
    "FROM matches_spain AS m\n",
    "LEFT JOIN teams_spain AS t \n",
    "ON m.awayteam_id = t.team_api_id\n",
    "-- Filter for Barcelona as the home team\n",
    "WHERE m.hometeam_id = 8634; "
   ]
  },
  {
   "cell_type": "markdown",
   "metadata": {},
   "source": [
    "#### 1.1.2 CASE statements comparing two column values part 2\n",
    "Similar to the previous exercise, you will construct a query to determine the outcome of Barcelona's matches where they played as the away team. You will learn how to combine these two queries in chapters 2 and 3.\n",
    "\n",
    "Did their performance differ from the matches where they were the home team?"
   ]
  },
  {
   "cell_type": "code",
   "execution_count": null,
   "metadata": {
    "vscode": {
     "languageId": "sql"
    }
   },
   "outputs": [],
   "source": [
    "-- Complete the CASE statement to identify Barcelona's away team games (id = 8634) as wins, losses, or ties.\n",
    "\n",
    "-- Left join the teams_spain table team_api_id column on the matches_spain table hometeam_id column. This retrieves the identity of the home team opponent.\n",
    "-- Filter the query to only include matches where Barcelona was the away team.\n",
    "SELECT  \n",
    "\tm.date,\n",
    "\tt.team_long_name AS opponent,\n",
    "\tCASE WHEN m.home_goal < m.away_goal THEN 'Barcelona win!'\n",
    "         WHEN m.home_goal > m.away_goal THEN 'Barcelona loss :(' \n",
    "         ELSE 'Tie' END AS outcome\n",
    "FROM matches_spain AS m\n",
    "-- Join teams_spain to matches_spain\n",
    "LEFT JOIN teams_spain AS t \n",
    "ON m.hometeam_id = t.team_api_id\n",
    "WHERE m.awayteam_id = 8634;"
   ]
  },
  {
   "cell_type": "markdown",
   "metadata": {},
   "source": [
    "### 1.2 In CASE things get more complex"
   ]
  },
  {
   "cell_type": "markdown",
   "metadata": {},
   "source": [
    "#### 1.2.1 In CASE of rivalry\n",
    "Barcelona and Real Madrid have been rival teams for more than 80 years. Matches between these two teams are given the name El Clásico (The Classic). In this exercise, you will query a list of matches played between these two rivals.\n",
    "\n",
    "You will notice in Step 2 that when you have multiple logical conditions in a CASE statement, you may quickly end up with a large number of WHEN clauses to logically test every outcome you are interested in. It's important to make sure you don't accidentally exclude key information in your ELSE clause.\n",
    "\n",
    "In this exercise, you will retrieve information about matches played between Barcelona (id = 8634) and Real Madrid (id = 8633). Note that the query you are provided with already identifies the Clásico matches using a filter in the WHERE clause."
   ]
  },
  {
   "cell_type": "code",
   "execution_count": null,
   "metadata": {
    "vscode": {
     "languageId": "sql"
    }
   },
   "outputs": [],
   "source": [
    "-- Complete the first CASE statement, identifying Barcelona or Real Madrid as the home team using the hometeam_id column.\n",
    "-- Complete the second CASE statement in the same way, using awayteam_id.\n",
    "\n",
    "SELECT \n",
    "\tdate,\n",
    "\t-- Identify the home team as Barcelona or Real Madrid\n",
    "\tCASE WHEN hometeam_id = 8634 THEN 'FC Barcelona' \n",
    "        ELSE 'Real Madrid CF' END AS home,\n",
    "    -- Identify the away team as Barcelona or Real Madrid\n",
    "\tCASE WHEN awayteam_id = 8634 THEN 'FC Barcelona' \n",
    "        ELSE 'Real Madrid CF' END AS away\n",
    "FROM matches_spain\n",
    "WHERE (awayteam_id = 8634 OR hometeam_id = 8634) AND (awayteam_id = 8633 OR hometeam_id = 8633);"
   ]
  },
  {
   "cell_type": "code",
   "execution_count": null,
   "metadata": {
    "vscode": {
     "languageId": "sql"
    }
   },
   "outputs": [],
   "source": [
    "-- Construct the final CASE statement identifying who won each match. Note there are 3 possible outcomes, but 5 conditions that you need to identify.\n",
    "-- Fill in the logical operators to identify Barcelona or Real Madrid as the winner.\n",
    "SELECT \n",
    "\tdate,\n",
    "\tCASE WHEN hometeam_id = 8634 THEN 'FC Barcelona' \n",
    "         ELSE 'Real Madrid CF' END as home,\n",
    "\tCASE WHEN awayteam_id = 8634 THEN 'FC Barcelona' \n",
    "         ELSE 'Real Madrid CF' END as away,\n",
    "\t-- Identify all possible match outcomes\n",
    "\tCASE WHEN home_goal > away_goal AND hometeam_id = 8634 THEN 'Barcelona win!'\n",
    "        WHEN home_goal > away_goal AND hometeam_id = 8633 THEN 'Real Madrid win!'\n",
    "        WHEN home_goal < away_goal AND awayteam_id = 8634 THEN 'Barcelona win!'\n",
    "        WHEN home_goal < away_goal AND awayteam_id = 8633 THEN 'Real Madrid win!'\n",
    "        ELSE 'Tie!' END AS outcome\n",
    "FROM matches_spain\n",
    "WHERE (awayteam_id = 8634 OR hometeam_id = 8634)\n",
    "      AND (awayteam_id = 8633 OR hometeam_id = 8633);\n"
   ]
  },
  {
   "cell_type": "markdown",
   "metadata": {},
   "source": [
    "#### 1.2.2 Filtering your CASE statement\n",
    "Let's generate a list of matches won by Italy's Bologna team! There are quite a few additional teams in the two tables, so a key part of generating a usable query will be using your CASE statement as a filter in the WHERE clause.\n",
    "\n",
    "CASE statements allow you to categorize data that you're interested in -- and exclude data you're not interested in. In order to do this, you can use a CASE statement as a filter in the WHERE statement to remove output you don't want to see.\n",
    "\n",
    "Here is how you might set that up:\n",
    "\n",
    "SELECT *  \n",
    "FROM table  \n",
    "WHERE   \n",
    "    CASE WHEN a > 5 THEN 'Keep'  \n",
    "         WHEN a <= 5 THEN 'Exclude' END = 'Keep';  \n",
    "In essence, you can use the CASE statement as a filtering column like any other column in your database. The only difference is that you don't alias the statement in WHERE."
   ]
  },
  {
   "cell_type": "code",
   "execution_count": null,
   "metadata": {
    "vscode": {
     "languageId": "sql"
    }
   },
   "outputs": [],
   "source": [
    "-- Identify Bologna's team ID listed in the teams_italy table by selecting the team_long_name and team_api_id.\n",
    "-- Select team_long_name and team_api_id from team\n",
    "SELECT\n",
    "\tteam_long_name,\n",
    "\tteam_api_id\n",
    "FROM teams_italy\n",
    "-- Filter for team long name\n",
    "WHERE team_long_name = 'Bologna';"
   ]
  },
  {
   "cell_type": "code",
   "execution_count": null,
   "metadata": {
    "vscode": {
     "languageId": "sql"
    }
   },
   "outputs": [],
   "source": [
    "-- Select the season and date that a match was played.\n",
    "-- Complete the CASE statement so that only Bologna's home and away wins are identified.\n",
    "-- Select the season and date columns\n",
    "SELECT \n",
    "\tseason,\n",
    "\tdate,\n",
    "    -- Identify when Bologna won a match\n",
    "\tCASE WHEN hometeam_id = 9857 AND home_goal > away_goal THEN 'Bologna Win'\n",
    "\t\tWHEN awayteam_id = 9857 AND away_goal > home_goal THEN 'Bologna Win' \n",
    "\t\tEND AS outcome\n",
    "FROM matches_italy;\n",
    "\n",
    "-- note this result includes null;"
   ]
  },
  {
   "cell_type": "code",
   "execution_count": null,
   "metadata": {
    "vscode": {
     "languageId": "sql"
    }
   },
   "outputs": [],
   "source": [
    "-- Select the home_goal and away_goal for each match.\n",
    "-- Use the CASE statement in the WHERE clause to filter all NULL values generated by the statement in the previous step.\n",
    "-- Select the season, date, home_goal, and away_goal columns\n",
    "SELECT \n",
    "\tseason,\n",
    "    date,\n",
    "\thome_goal,\n",
    "\taway_goal,\n",
    "    -- Identify when Bologna won a match\n",
    "\tCASE WHEN hometeam_id = 9857 AND home_goal > away_goal THEN 'Bologna Win'\n",
    "\t\tWHEN awayteam_id = 9857 AND away_goal > home_goal THEN 'Bologna Win' \n",
    "\t\tEND AS outcome\n",
    "FROM matches_italy\n",
    "WHERE \n",
    "-- Exclude games not won by Bologna\n",
    "\tCASE WHEN hometeam_id = 9857 AND home_goal > away_goal THEN 'Bologna Win'\n",
    "\t\tWHEN awayteam_id = 9857 AND away_goal > home_goal THEN 'Bologna Win' \n",
    "\t\tEND IS NOT NULL;"
   ]
  },
  {
   "cell_type": "markdown",
   "metadata": {},
   "source": [
    "### 1.3 CASE WHEN with aggregate functions"
   ]
  },
  {
   "cell_type": "markdown",
   "metadata": {},
   "source": [
    "#### 1.3.1 COUNT using CASE WHEN"
   ]
  },
  {
   "cell_type": "markdown",
   "metadata": {},
   "source": [
    "Do the number of soccer matches played in a given European country differ across seasons? We will use the European Soccer Database to answer this question.\n",
    "\n",
    "You will examine the number of matches played in 3 seasons within each country listed in the database. This is much easier to explore with each season's matches in separate columns. Using the country and unfiltered match table, you will count the number of matches played in each country during the 2012/2013, 2013/2014, and 2014/2015 match seasons."
   ]
  },
  {
   "cell_type": "code",
   "execution_count": null,
   "metadata": {
    "vscode": {
     "languageId": "sql"
    }
   },
   "outputs": [],
   "source": [
    "-- Create a CASE statement that identifies the id of matches played in the 2012/2013 season. Specify that you want ELSE values to be NULL.\n",
    "-- Wrap the CASE statement in a COUNT function and group the query by the country alias.\n",
    "SELECT \n",
    "\tc.name AS country,\n",
    "    -- Count games from the 2012/2013 season\n",
    "\tCOUNT(CASE WHEN m.season = '2012/2013' \n",
    "        \tTHEN m.id ELSE NULL END) AS matches_2012_2013\n",
    "FROM country AS c\n",
    "LEFT JOIN match AS m\n",
    "ON c.id = m.country_id\n",
    "-- Group by country name alias\n",
    "GROUP BY country;"
   ]
  },
  {
   "cell_type": "code",
   "execution_count": null,
   "metadata": {
    "vscode": {
     "languageId": "sql"
    }
   },
   "outputs": [],
   "source": [
    "-- Create 3 CASE WHEN statements counting the matches played in each country across the 3 seasons.\n",
    "-- END your CASE statement without an ELSE clause.\n",
    "SELECT \n",
    "\tc.name AS country,\n",
    "    -- Count matches in each of the 3 seasons\n",
    "\tCOUNT(CASE WHEN m.season = '2012/2013' THEN m.id END) AS matches_2012_2013,\n",
    "\tCOUNT(CASE WHEN m.season = '2013/2014' THEN m.id END) AS matches_2013_2014,\n",
    "\tCOUNT(CASE WHEN m.season = '2014/2015' THEN m.id END) AS matches_2014_2015\n",
    "FROM country AS c\n",
    "LEFT JOIN match AS m\n",
    "ON c.id = m.country_id\n",
    "-- Group by country name alias\n",
    "GROUP BY country;"
   ]
  },
  {
   "cell_type": "markdown",
   "metadata": {},
   "source": [
    "#### 1.3.2 COUNT and CASE WHEN with multiple conditions"
   ]
  },
  {
   "cell_type": "markdown",
   "metadata": {},
   "source": [
    "In R or Python, you have the ability to calculate a SUM of logical values (i.e., TRUE/FALSE) directly. In SQL, you have to convert these values into 1 and 0 before calculating a sum. This can be done using a CASE statement.\n",
    "\n",
    "There's one key difference when using SUM to aggregate logical values compared to using COUNT in the previous exercise --\n",
    "\n",
    "Your goal here is to use the country and match table to determine the total number of matches won by the home team in each country during the 2012/2013, 2013/2014, and 2014/2015 seasons."
   ]
  },
  {
   "cell_type": "code",
   "execution_count": null,
   "metadata": {
    "vscode": {
     "languageId": "sql"
    }
   },
   "outputs": [],
   "source": [
    "-- Create 3 CASE statements to \"count\" matches in the '2012/2013', '2013/2014', and '2014/2015' seasons, respectively.\n",
    "-- Have each CASE statement return a 1 for every match you want to include, and a 0 for every match to exclude.\n",
    "-- Wrap the CASE statement in a SUM to return the total matches played in each season.\n",
    "-- Group the query by the country name alias.\n",
    "SELECT \n",
    "\tc.name AS country,\n",
    "    -- Sum the total records in each season where the home team won\n",
    "\tSUM(CASE WHEN m.season = '2012/2013' AND m.home_goal > m.away_goal \n",
    "        THEN 1 ELSE 0 END ) AS matches_2012_2013,\n",
    " \tSUM(CASE WHEN m.season = '2013/2014' AND m.home_goal > m.away_goal \n",
    "        THEN 1 ELSE 0 END) AS matches_2013_2014,\n",
    "\tSUM(CASE WHEN m.season = '2014/2015' AND m.home_goal > m.away_goal \n",
    "        THEN 1 ELSE 0 END) AS matches_2014_2015\n",
    "FROM country AS c\n",
    "LEFT JOIN match AS m\n",
    "ON c.id = m.country_id\n",
    "-- Group by country name alias\n",
    "GROUP BY country;\n"
   ]
  },
  {
   "cell_type": "markdown",
   "metadata": {},
   "source": [
    "#### 1.3.2 Calculating percent with CASE and AVG\n",
    "\n"
   ]
  },
  {
   "cell_type": "markdown",
   "metadata": {},
   "source": [
    "## Chapter 2: Short and Simple Subqueries"
   ]
  },
  {
   "cell_type": "markdown",
   "metadata": {},
   "source": [
    "### 2.1 WHERE are the Subqueries"
   ]
  },
  {
   "cell_type": "markdown",
   "metadata": {},
   "source": [
    "#### 2.1.1 Filtering using scalar subqueries"
   ]
  },
  {
   "cell_type": "markdown",
   "metadata": {},
   "source": [
    "Subqueries are incredibly powerful for performing complex filters and transformations. You can filter data based on single, scalar values using a subquery in ways you cannot by using WHERE statements or joins. Subqueries can also be used for more advanced manipulation of your data set. You will likely encounter subqueries in any real-world setting that uses relational databases.\n",
    "\n",
    "In this exercise, you will generate a list of matches where the total goals scored (for both teams in total) is more than 3 times the average for games in the matches_2013_2014 table, which includes all games played in the 2013/2014 season."
   ]
  },
  {
   "cell_type": "code",
   "execution_count": null,
   "metadata": {
    "vscode": {
     "languageId": "sql"
    }
   },
   "outputs": [],
   "source": [
    "-- Calculate triple the average home + away goals scored across all matches. This will become your subquery in the next step. Note that this column does not have an alias, so it will be called ?column? in your results.\n",
    "-- Select the average of home + away goals, multiplied by 3\n",
    "SELECT \n",
    "\t3 * AVG(home_goal + away_goal)\n",
    "FROM matches_2013_2014;"
   ]
  },
  {
   "cell_type": "code",
   "execution_count": null,
   "metadata": {
    "vscode": {
     "languageId": "sql"
    }
   },
   "outputs": [],
   "source": [
    "-- Select the date, home goals, and away goals in the main query.\n",
    "-- Filter the main query for matches where the total goals scored exceed the value in the subquery.\n",
    "SELECT \n",
    "\t-- Select the date, home goals, and away goals scored\n",
    "    date,\n",
    "\thome_goal,\n",
    "\taway_goal\n",
    "FROM  matches_2013_2014\n",
    "-- Filter for matches where total goals exceeds 3x the average\n",
    "WHERE (home_goal + away_goal) >\n",
    "       (SELECT 3 * AVG(home_goal + away_goal)\n",
    "        FROM matches_2013_2014); "
   ]
  },
  {
   "cell_type": "markdown",
   "metadata": {},
   "source": [
    "#### 2.1.2 Filtering using a subquery with a list"
   ]
  },
  {
   "cell_type": "markdown",
   "metadata": {},
   "source": [
    "Your goal in this exercise is to generate a list of teams that never played a game in their home city. Using a subquery, you will generate a list of unique hometeam_ID values from the unfiltered match table to exclude in the team table's team_api_ID column.\n",
    "\n",
    "In addition to filtering using a single-value (scalar) subquery, you can create a list of values in a subquery to filter data based on a complex set of conditions. This type of subquery generates a one column reference list for the main query. As long as the values in your list match a column in your main query's table, you don't need to use a join -- even if the list is from a separate table."
   ]
  },
  {
   "cell_type": "code",
   "execution_count": null,
   "metadata": {
    "vscode": {
     "languageId": "sql"
    }
   },
   "outputs": [],
   "source": [
    "-- Create a subquery in the WHERE clause that retrieves all unique hometeam_ID values from the match table.\n",
    "-- Select the team_long_name and team_short_name from the team table. Exclude all values from the subquery in the main query.\n",
    "SELECT \n",
    "\t-- Select the team long and short names\n",
    "\tteam_long_name,\n",
    "\tteam_short_name\n",
    "FROM team\n",
    "-- Exclude all values from the subquery\n",
    "WHERE team_api_id NOT IN\n",
    "     (SELECT DISTINCT hometeam_id FROM match);"
   ]
  },
  {
   "cell_type": "code",
   "execution_count": null,
   "metadata": {
    "vscode": {
     "languageId": "sql"
    }
   },
   "outputs": [],
   "source": [
    "-- Create a subquery in WHERE clause that retrieves all hometeam_ID values from match with a home_goal score greater than or equal to 8.\n",
    "-- Select the team_long_name and team_short_name from the team table. Include all values from the subquery in the main query.\n",
    "SELECT\n",
    "\t-- Select the team long and short names\n",
    "\tteam_long_name,\n",
    "\tteam_short_name\n",
    "FROM team\n",
    "-- Filter for teams with 8 or more home goals\n",
    "WHERE team_api_id IN\n",
    "\t  (SELECT hometeam_id\n",
    "       FROM match\n",
    "       WHERE home_goal >= 8);"
   ]
  },
  {
   "cell_type": "markdown",
   "metadata": {},
   "source": [
    "### 2.2 Subqeries in FROM"
   ]
  },
  {
   "cell_type": "markdown",
   "metadata": {},
   "source": [
    "#### 2.2.1 Joining Subqueries in FROM"
   ]
  },
  {
   "cell_type": "markdown",
   "metadata": {},
   "source": [
    "The match table in the European Soccer Database does not contain country or team names. You can get this information by joining it to the country table, and use this to aggregate information, such as the number of matches played in each country.\n",
    "\n",
    "If you're interested in filtering data from one of these tables, you can also create a subquery from one of the tables, and then join it to an existing table in the database. A subquery in FROM is an effective way of answering detailed questions that requires filtering or transforming data before including it in your final results.\n",
    "\n",
    "Your goal in this exercise is to generate a subquery using the match table, and then join that subquery to the country table to calculate information about matches with 10 or more goals in total!"
   ]
  },
  {
   "cell_type": "code",
   "execution_count": null,
   "metadata": {
    "vscode": {
     "languageId": "sql"
    }
   },
   "outputs": [],
   "source": [
    "-- Create the subquery to be used in the next step, which selects the country ID and match ID (id) from the match table.\n",
    "-- Filter the query for matches with greater than or equal to 10 goals.\n",
    "SELECT \n",
    "\t-- Select the country ID and match ID\n",
    "\tcountry_id, \n",
    "    id\n",
    "FROM match\n",
    "-- Filter for matches with 10 or more goals in total\n",
    "WHERE (home_goal + away_goal) >= 10;"
   ]
  },
  {
   "cell_type": "code",
   "execution_count": null,
   "metadata": {
    "vscode": {
     "languageId": "sql"
    }
   },
   "outputs": [],
   "source": [
    "-- Construct a subquery that selects only matches with 10 or more total goals.\n",
    "-- Inner join the subquery onto country in the main query.\n",
    "-- Select name from country and count the id column from match.\n",
    "SELECT\n",
    "\t-- Select country name and the count match IDs\n",
    "    c.name AS country_name,\n",
    "    COUNT(sub.id) AS matches\n",
    "FROM country AS c\n",
    "-- Inner join the subquery onto country\n",
    "-- Select the country id and match id columns\n",
    "INNER JOIN (SELECT country_id, id\n",
    "           FROM match\n",
    "           -- Filter the subquery by matches with 10+ goals\n",
    "           WHERE (home_goal + away_goal) >= 10) AS sub\n",
    "ON c.id = sub.country_id\n",
    "GROUP BY country_name;"
   ]
  },
  {
   "cell_type": "markdown",
   "metadata": {},
   "source": [
    "#### 2.2.2 Building on Subqueries in FROM"
   ]
  },
  {
   "cell_type": "markdown",
   "metadata": {},
   "source": [
    "In the previous exercise, you found that England, Netherlands, Germany and Spain were the only countries that had matches in the database where 10 or more goals were scored overall. Let's find out some more details about those matches -- when they were played, during which seasons, and how many of the goals were home versus away goals.\n",
    "\n",
    "You'll notice that in this exercise, the table alias is excluded for every column selected in the main query. This is because the main query is extracting data from the subquery, which is treated as a single table."
   ]
  },
  {
   "cell_type": "code",
   "execution_count": null,
   "metadata": {
    "vscode": {
     "languageId": "sql"
    }
   },
   "outputs": [],
   "source": [
    "-- Complete the subquery inside the FROM clause. Select the country name from the country table, along with the date, the home goal, the away goal, and the total goals columns from the match table.\n",
    "-- Create a column in the subquery that adds home and away goals, called total_goals. This will be used to filter the main query.\n",
    "-- Select the country, date, home goals, and away goals in the main query.\n",
    "-- Filter the main query for games with 10 or more total goals.\n",
    "SELECT\n",
    "\t-- Select country, date, home, and away goals from the subquery\n",
    "    country,\n",
    "    date,\n",
    "    home_goal,\n",
    "    away_goal\n",
    "FROM \n",
    "\t-- Select country name, date, home_goal, away_goal, and total goals in the subquery\n",
    "\t(SELECT c.name AS country, \n",
    "     \t    m.date, \n",
    "     \t\tm.home_goal, \n",
    "     \t\tm.away_goal,\n",
    "           (m.home_goal + m.away_goal) AS total_goals\n",
    "    FROM match AS m\n",
    "    LEFT JOIN country AS c\n",
    "    ON m.country_id = c.id) AS subq\n",
    "-- Filter by total goals scored in the main query\n",
    "WHERE total_goals >= 10;"
   ]
  },
  {
   "cell_type": "markdown",
   "metadata": {},
   "source": [
    "### 2.3 Subqueries in SELECT"
   ]
  },
  {
   "cell_type": "markdown",
   "metadata": {},
   "source": [
    "#### 2.3.1 Add a subquery to the SELECT clause"
   ]
  },
  {
   "cell_type": "markdown",
   "metadata": {},
   "source": [
    "Subqueries in SELECT statements generate a single value that allow you to pass an aggregate value down a data frame. This is useful for performing calculations on data within your database.\n",
    "\n",
    "In the following exercise, you will construct a query that calculates the average number of goals per match in each country's league."
   ]
  },
  {
   "cell_type": "code",
   "execution_count": null,
   "metadata": {
    "vscode": {
     "languageId": "sql"
    }
   },
   "outputs": [],
   "source": [
    "-- In the subquery, select the average total goals by adding home_goal and away_goal.\n",
    "-- Filter the results so that only the average of goals in the 2013/2014 season is calculated.\n",
    "-- In the main query, select the average total goals by adding home_goal and away_goal. This calculates the average goals for each league.\n",
    "-- Filter the results in the main query the same way you filtered the subquery. Group the query by the league name.\n",
    "SELECT \n",
    "\tl.name AS league,\n",
    "    -- Select and round the league's total goals\n",
    "    ROUND(AVG(m.home_goal + m.away_goal), 2) AS avg_goals,\n",
    "    -- Select & round the average total goals for the season\n",
    "    (SELECT ROUND(AVG(home_goal + away_goal), 2) \n",
    "     FROM match\n",
    "     WHERE season = '2013/2014') AS overall_avg\n",
    "FROM league AS l\n",
    "LEFT JOIN match AS m\n",
    "ON l.country_id = m.country_id\n",
    "-- Filter for the 2013/2014 season\n",
    "WHERE season = '2013/2014'\n",
    "GROUP BY l.name;"
   ]
  },
  {
   "cell_type": "markdown",
   "metadata": {},
   "source": [
    "<img src='.\\query_result\\2.3.1.png'/>"
   ]
  },
  {
   "cell_type": "markdown",
   "metadata": {},
   "source": [
    "#### 2.3.2 Subqueries in Select for Calculations"
   ]
  },
  {
   "cell_type": "markdown",
   "metadata": {},
   "source": [
    "Subqueries in SELECT are a useful way to create calculated columns in a query. A subquery in SELECT can be treated as a single numeric value to use in your calculations. When writing queries in SELECT, it's important to remember that filtering the main query does not filter the subquery -- and vice versa.\n",
    "\n",
    "In the previous exercise, you created a column to compare each league's average total goals to the overall average goals in the 2013/2014 season. In this exercise, you will add a column that directly compares these values by subtracting the overall average from the subquery.Subqueries in SELECT are a useful way to create calculated columns in a query. A subquery in SELECT can be treated as a single numeric value to use in your calculations. When writing queries in SELECT, it's important to remember that filtering the main query does not filter the subquery -- and vice versa.\n",
    "\n",
    "In the previous exercise, you created a column to compare each league's average total goals to the overall average goals in the 2013/2014 season. In this exercise, you will add a column that directly compares these values by subtracting the overall average from the subquery."
   ]
  },
  {
   "cell_type": "code",
   "execution_count": null,
   "metadata": {
    "vscode": {
     "languageId": "sql"
    }
   },
   "outputs": [],
   "source": [
    "-- Select the average goals scored in a match for each league in the main query.\n",
    "-- Select the average goals scored in a match overall for the 2013/2014 season in the subquery.\n",
    "-- Subtract the subquery from the average number of goals calculated for each league.\n",
    "-- Filter the main query so that only games from the 2013/2014 season are included.\n",
    "SELECT\n",
    "\t-- Select the league name and average goals scored\n",
    "\tl.name AS league,\n",
    "\tROUND(AVG(m.home_goal + m.away_goal),2) AS avg_goals,\n",
    "    -- Subtract the overall average from the league average\n",
    "\tROUND(AVG(m.home_goal + m.away_goal) -\n",
    "\t\t(SELECT AVG(home_goal + away_goal)\n",
    "\t\t FROM match \n",
    "         WHERE season = '2013/2014'),2) AS diff\n",
    "FROM league AS l\n",
    "LEFT JOIN match AS m\n",
    "ON l.country_id = m.country_id\n",
    "-- Only include 2013/2014 results\n",
    "WHERE season = '2013/2014'\n",
    "GROUP BY l.name;"
   ]
  },
  {
   "cell_type": "markdown",
   "metadata": {},
   "source": [
    "<img src='.\\query_result\\2.3.2.png'/>"
   ]
  },
  {
   "cell_type": "markdown",
   "metadata": {},
   "source": [
    "### 2.3 Subqueries everywhere! And best practices!"
   ]
  },
  {
   "cell_type": "markdown",
   "metadata": {},
   "source": [
    "## CHAPTER 3: Correlated Queries, Nested Queries, and Common Table Expressions"
   ]
  },
  {
   "cell_type": "markdown",
   "metadata": {},
   "source": [
    "### 3.1"
   ]
  },
  {
   "cell_type": "markdown",
   "metadata": {},
   "source": []
  },
  {
   "cell_type": "markdown",
   "metadata": {},
   "source": [
    "### 3.2"
   ]
  },
  {
   "cell_type": "markdown",
   "metadata": {},
   "source": [
    "### 3.3 Common Table Expressions"
   ]
  },
  {
   "cell_type": "markdown",
   "metadata": {},
   "source": [
    "#### 3.3.3 CTEs with nested subqueries"
   ]
  },
  {
   "cell_type": "markdown",
   "metadata": {},
   "source": [
    "If you find yourself listing multiple subqueries in the FROM clause with nested statement, your query will likely become long, complex, and difficult to read.\n",
    "\n",
    "Since many queries are written with the intention of being saved and re-run in the future, proper organization is key to a seamless workflow. Arranging subqueries as CTEs will save you time, space, and confusion in the long run!"
   ]
  },
  {
   "cell_type": "code",
   "execution_count": null,
   "metadata": {
    "vscode": {
     "languageId": "sql"
    }
   },
   "outputs": [],
   "source": [
    "-- Declare a CTE that calculates the total goals from matches in August of the 2013/2014 season.\n",
    "-- Left join the CTE onto the league table using country_id from the match_list CTE.\n",
    "-- Filter the list on the inner subquery to only select matches in August of the 2013/2014 season.\n",
    "\n",
    "-- Set up your CTE\n",
    "WITH match_list AS (\n",
    "    SELECT \n",
    "  \t\tcountry_id,\n",
    "  \t   (home_goal + away_goal) AS goals\n",
    "    FROM match\n",
    "  \t-- Create a list of match IDs to filter data in the CTE\n",
    "    WHERE id IN (\n",
    "       SELECT Id\n",
    "       FROM match\n",
    "       WHERE season = '2013/2014' AND EXTRACT(MONTH FROM date) = 08))\n",
    "-- Select the league name and average of goals in the CTE\n",
    "SELECT \n",
    "\tname,\n",
    "    AVG(goals)\n",
    "FROM league AS l\n",
    "-- Join the CTE onto the league table\n",
    "LEFT JOIN match_list ON l.id = match_list.country_id\n",
    "GROUP BY l.name;"
   ]
  },
  {
   "cell_type": "markdown",
   "metadata": {},
   "source": [
    "### 3.4 Deciding on techniques to use"
   ]
  },
  {
   "cell_type": "markdown",
   "metadata": {},
   "source": [
    "#### 3.4.1 Get team names with a subquery"
   ]
  },
  {
   "cell_type": "markdown",
   "metadata": {},
   "source": [
    "Let's solve a problem we've encountered a few times in this course so far -- How do you get both the home and away team names into one final query result?\n",
    "\n",
    "Out of the 4 techniques we just discussed, this can be performed using subqueries, correlated subqueries, and CTEs. Let's practice creating similar result sets using each of these 3 methods over the next 3 exercises, starting with subqueries in FROM."
   ]
  },
  {
   "cell_type": "code",
   "execution_count": null,
   "metadata": {
    "vscode": {
     "languageId": "sql"
    }
   },
   "outputs": [],
   "source": [
    "-- Create a query that left joins team to match in order to get the identity of the home team. This becomes the subquery in the next step.\n",
    "SELECT \n",
    "\tm.id, \n",
    "    t.team_long_name AS hometeam\n",
    "-- Left join team to match\n",
    "FROM match AS m\n",
    "LEFT JOIN team as t\n",
    "ON m.hometeam_id = team_api_id;"
   ]
  },
  {
   "cell_type": "code",
   "execution_count": null,
   "metadata": {
    "vscode": {
     "languageId": "sql"
    }
   },
   "outputs": [],
   "source": [
    "-- Add a second subquery to the FROM statement to get the away team name, changing only the hometeam_id. Left join both subqueries to the match table on the id column.\n",
    "-- Warning: if your code is timing out, you have probably made a mistake in the JOIN and tried to join on the wrong fields which caused the table to be too big! Read the provided code and comments carefully, and check your ON conditions!\n",
    "SELECT\n",
    "\tm.date,\n",
    "    -- Get the home and away team names\n",
    "    hometeam,\n",
    "    awayteam,\n",
    "    m.home_goal,\n",
    "    m.away_goal\n",
    "FROM match AS m\n",
    "\n",
    "-- Join the home subquery to the match table\n",
    "LEFT JOIN (\n",
    "  SELECT match.id, team.team_long_name AS hometeam\n",
    "  FROM match\n",
    "  LEFT JOIN team\n",
    "  ON match.hometeam_id = team.team_api_id) AS home\n",
    "ON home.id = m.id\n",
    "\n",
    "-- Join the away subquery to the match table\n",
    "LEFT JOIN (\n",
    "  SELECT match.id, team.team_long_name AS awayteam\n",
    "  FROM match\n",
    "  LEFT JOIN team\n",
    "  -- Get the away team ID in the subquery\n",
    "  ON match.awayteam_id = team.team_api_id) AS away\n",
    "ON away.id = m.id;"
   ]
  },
  {
   "cell_type": "markdown",
   "metadata": {},
   "source": [
    "#### 3.4.2 Get team names with correlated subqueries"
   ]
  },
  {
   "cell_type": "markdown",
   "metadata": {},
   "source": [
    "Let's solve the same problem using correlated subqueries -- How do you get both the home and away team names into one final query result?\n",
    "\n",
    "This can easily be performed using correlated subqueries. But how might that impact the performance of your query? Complete the following steps and let's find out!\n",
    "\n",
    "Please note that your query will run more slowly than the previous exercise!"
   ]
  },
  {
   "cell_type": "code",
   "execution_count": null,
   "metadata": {
    "vscode": {
     "languageId": "sql"
    }
   },
   "outputs": [],
   "source": [
    "-- Using a correlated subquery in the SELECT statement, match the team_api_id column from team to the hometeam_id from match.\n",
    "SELECT\n",
    "    m.date,\n",
    "   (SELECT team_long_name\n",
    "    FROM team AS t\n",
    "    -- Connect the team to the match table\n",
    "    WHERE team_api_id = hometeam_id) AS hometeam\n",
    "FROM match AS m;"
   ]
  },
  {
   "cell_type": "code",
   "execution_count": null,
   "metadata": {
    "vscode": {
     "languageId": "sql"
    }
   },
   "outputs": [],
   "source": [
    "-- Create a second correlated subquery in SELECT, yielding the away team's name.\n",
    "-- Select the home and away goal columns from match in the main query.\n",
    "SELECT\n",
    "    m.date,\n",
    "    (SELECT team_long_name\n",
    "     FROM team AS t\n",
    "     WHERE t.team_api_id = m.hometeam_id) AS hometeam,\n",
    "    -- Connect the team to the match table\n",
    "    (SELECT team_long_name\n",
    "     FROM team AS t\n",
    "     WHERE t.team_api_id = m.awayteam_id) AS awayteam,\n",
    "    -- Select home and away goals\n",
    "     home_goal,\n",
    "     away_goal\n",
    "FROM match AS m;"
   ]
  },
  {
   "cell_type": "markdown",
   "metadata": {},
   "source": [
    "#### 3.4.3 Get team names with CTEs"
   ]
  },
  {
   "cell_type": "markdown",
   "metadata": {},
   "source": [
    "You've now explored two methods for answering the question, How do you get both the home and away team names into one final query result?\n",
    "\n",
    "Let's explore the final method - common table expressions. Common table expressions are similar to the subquery method for generating results, mainly differing in syntax and the order in which information is processed."
   ]
  },
  {
   "cell_type": "code",
   "execution_count": null,
   "metadata": {
    "vscode": {
     "languageId": "sql"
    }
   },
   "outputs": [],
   "source": [
    "-- Select id from match and team_long_name from team. Join these two tables together on hometeam_id in match and team_api_id in team.\n",
    "SELECT \n",
    "\t-- Select match id and team long name\n",
    "    m.id, \n",
    "    t.team_long_name AS hometeam\n",
    "FROM match AS m\n",
    "-- Join team to match using team_api_id and hometeam_id\n",
    "LEFT JOIN team AS t \n",
    "ON m.hometeam_id = t.team_api_id;"
   ]
  },
  {
   "cell_type": "code",
   "execution_count": null,
   "metadata": {
    "vscode": {
     "languageId": "sql"
    }
   },
   "outputs": [],
   "source": [
    "-- Declare the query from the previous step as a common table expression. SELECT everything from the CTE into the main query. Your results will not change at this step!\n",
    "-- Declare the home CTE\n",
    "WITH home AS (\n",
    "\tSELECT m.id, t.team_long_name AS hometeam\n",
    "\tFROM match AS m\n",
    "\tLEFT JOIN team AS t \n",
    "\tON m.hometeam_id = t.team_api_id)\n",
    "-- Select everything from home\n",
    "SELECT *\n",
    "FROM home;"
   ]
  },
  {
   "cell_type": "code",
   "execution_count": null,
   "metadata": {
    "vscode": {
     "languageId": "sql"
    }
   },
   "outputs": [],
   "source": [
    "-- Let's declare the second CTE, away. Join it to the first CTE on the id column.\n",
    "-- The date, home_goal, and away_goal columns have been added to the CTEs. SELECT them into the main query.\n",
    "WITH home AS (\n",
    "  SELECT m.id, m.date, \n",
    "  \t\t t.team_long_name AS hometeam, m.home_goal\n",
    "  FROM match AS m\n",
    "  LEFT JOIN team AS t \n",
    "  ON m.hometeam_id = t.team_api_id),\n",
    "-- Declare and set up the away CTE\n",
    "away AS (\n",
    "  SELECT m.id, m.date, \n",
    "  \t\t t.team_long_name AS awayteam, m.away_goal\n",
    "  FROM match AS m\n",
    "  LEFT JOIN team AS t \n",
    "  ON m.awayteam_id = t.team_api_id)\n",
    "-- Select date, home_goal, and away_goal\n",
    "SELECT \n",
    "\thome.date,\n",
    "    home.hometeam,\n",
    "    away.awayteam,\n",
    "    home.home_goal,\n",
    "    away.away_goal\n",
    "-- Join away and home on the id column\n",
    "FROM home\n",
    "INNER JOIN away\n",
    "ON home.id = away.id;"
   ]
  },
  {
   "cell_type": "markdown",
   "metadata": {},
   "source": [
    "## Chapter 4 : Window Functions"
   ]
  },
  {
   "cell_type": "markdown",
   "metadata": {},
   "source": [
    "### 4.1 It's OVER"
   ]
  },
  {
   "cell_type": "markdown",
   "metadata": {},
   "source": [
    "#### 4.1.1 The match is OVER"
   ]
  },
  {
   "cell_type": "markdown",
   "metadata": {},
   "source": [
    "The OVER() clause allows you to pass an aggregate function down a data set, similar to subqueries in SELECT. The OVER() clause offers significant benefits over subqueries in select -- namely, your queries will run faster, and the OVER() clause has a wide range of additional functions and clauses you can include with it that we will cover later on in this chapter.\n",
    "\n",
    "In this exercise, you will revise some queries from previous chapters using the OVER() clause.|"
   ]
  },
  {
   "cell_type": "code",
   "execution_count": null,
   "metadata": {
    "vscode": {
     "languageId": "sql"
    }
   },
   "outputs": [],
   "source": [
    "-- Select the match ID, country name, season, home, and away goals from the match and country tables.\n",
    "-- Complete the query that calculates the average number of goals scored overall and then includes the aggregate value in each row using a window function.\n",
    "SELECT \n",
    "\t-- Select the id, country name, season, home, and away goals\n",
    "\tm.id, \n",
    "    c.name AS country, \n",
    "    m.season,\n",
    "\tm.home_goal,\n",
    "\tm.away_goal,\n",
    "    -- Use a window to include the aggregate average in each row\n",
    "\tAVG(m.home_goal + m.away_goal) OVER() AS overall_avg\n",
    "FROM match AS m\n",
    "LEFT JOIN country AS c ON m.country_id = c.id;"
   ]
  },
  {
   "cell_type": "markdown",
   "metadata": {},
   "source": [
    "#### 4.1.2 What's OVER here?"
   ]
  },
  {
   "cell_type": "markdown",
   "metadata": {},
   "source": [
    "Window functions allow you to create a RANK of information according to any variable you want to use to sort your data. When setting this up, you will need to specify what column/calculation you want to use to calculate your rank. This is done by including an ORDER BY clause inside the OVER() clause. Below is an example:\n",
    "\n",
    "```ruby\n",
    "SELECT \n",
    "    id,\n",
    "    RANK() OVER(ORDER BY home_goal) AS rank\n",
    "FROM match;\n",
    "```\n",
    "In this exercise, you will create a data set of ranked matches according to which leagues, on average, score the most goals in a match."
   ]
  },
  {
   "cell_type": "code",
   "execution_count": null,
   "metadata": {
    "vscode": {
     "languageId": "sql"
    }
   },
   "outputs": [],
   "source": [
    "-- Select the league name and average total goals scored from league and match.\n",
    "-- Complete the window function so it calculates the rank of average goals scored across all leagues in the database.\n",
    "-- Order the rank by the average total of home and away goals scored.\n",
    "SELECT \n",
    "\t-- Select the league name and average goals scored\n",
    "\tl.name AS league,\n",
    "    AVG(m.home_goal + m.away_goal) AS avg_goals,\n",
    "    -- Rank each league according to the average goals\n",
    "    RANK() OVER(ORDER BY AVG(m.home_goal + m.away_goal)) AS league_rank\n",
    "FROM league AS l\n",
    "LEFT JOIN match AS m \n",
    "ON l.id = m.country_id\n",
    "WHERE m.season = '2011/2012'\n",
    "GROUP BY l.name\n",
    "-- Order the query by the rank you created\n",
    "ORDER BY league_rank;"
   ]
  },
  {
   "cell_type": "markdown",
   "metadata": {},
   "source": [
    "#### 4.1.3 Flip OVER your results"
   ]
  },
  {
   "cell_type": "markdown",
   "metadata": {},
   "source": [
    "In the last exercise, the rank generated in your query was organized from smallest to largest. By adding DESC to your window function, you can create a rank sorted from largest to smallest.\n",
    "\n",
    "```ruby\n",
    "SELECT \n",
    "    id,\n",
    "    RANK() OVER(ORDER BY home_goal DESC) AS rank\n",
    "FROM match;\n",
    "```"
   ]
  },
  {
   "cell_type": "code",
   "execution_count": null,
   "metadata": {
    "vscode": {
     "languageId": "sql"
    }
   },
   "outputs": [],
   "source": [
    "-- Complete the same parts of the query as the previous exercise.\n",
    "-- Complete the window function to rank each league from highest to lowest average goals scored.\n",
    "-- Order the main query by the rank you just created.\n",
    "SELECT \n",
    "\t-- Select the league name and average goals scored\n",
    "\tl.name AS league,\n",
    "    AVG(m.home_goal + m.away_goal) AS avg_goals,\n",
    "    -- Rank leagues in descending order by average goals\n",
    "    RANK() OVER(ORDER BY AVG (m.home_goal + m.away_goal) DESC) AS league_rank\n",
    "FROM league AS l\n",
    "LEFT JOIN match AS m \n",
    "ON l.id = m.country_id\n",
    "WHERE m.season = '2011/2012'\n",
    "GROUP BY l.name\n",
    "-- Order the query by the rank you created\n",
    "ORDER BY league_rank;"
   ]
  },
  {
   "cell_type": "markdown",
   "metadata": {},
   "source": [
    "### 4.2 OVER with a PARITITION"
   ]
  },
  {
   "cell_type": "markdown",
   "metadata": {},
   "source": [
    "#### 4.2.1 PARTITION BY a column"
   ]
  },
  {
   "cell_type": "markdown",
   "metadata": {},
   "source": [
    "The PARTITION BY clause allows you to calculate separate \"windows\" based on columns you want to divide your results. For example, you can create a single column that calculates an overall average of goals scored for each season.\n",
    "\n",
    "In this exercise, you will be creating a data set of games played by Legia Warszawa (Warsaw League), the top ranked team in Poland, and comparing their individual game performance to the overall average for that season.\n",
    "\n",
    "Where do you see more outliers? Are they Legia Warszawa's home or away games?"
   ]
  },
  {
   "cell_type": "code",
   "execution_count": null,
   "metadata": {
    "vscode": {
     "languageId": "sql"
    }
   },
   "outputs": [],
   "source": [
    "-- Complete the two window functions that calculate the home and away goal averages. Partition the window functions by season to calculate separate averages for each season.\n",
    "-- Filter the query to only include matches played by Legia Warszawa, id = 8673.\n",
    "SELECT\n",
    "\tdate,\n",
    "\tseason,\n",
    "\thome_goal,\n",
    "\taway_goal,\n",
    "\tCASE WHEN hometeam_id = 8673 THEN 'home' \n",
    "\t\t ELSE 'away' END AS warsaw_location,\n",
    "    -- Calculate the average goals scored partitioned by season\n",
    "    AVG(home_goal) OVER(PARTITION BY season) AS season_homeavg,\n",
    "    AVG(away_goal) OVER(PARTITION BY season) AS season_awayavg\n",
    "FROM match\n",
    "-- Filter the data set for Legia Warszawa matches only\n",
    "WHERE \n",
    "\thometeam_id = 8673\n",
    "    OR awayteam_id = 8673\n",
    "ORDER BY (home_goal + away_goal) DESC;"
   ]
  },
  {
   "cell_type": "markdown",
   "metadata": {},
   "source": [
    "#### 4.2.2 PARTITION BY multiple columns"
   ]
  },
  {
   "cell_type": "markdown",
   "metadata": {},
   "source": [
    "The PARTITION BY clause can be used to break out window averages by multiple data points (columns). You can even calculate the information you want to use to partition your data! For example, you can calculate average goals scored by season and by country, or by the calendar year (taken from the date column).\n",
    "\n",
    "In this exercise, you will calculate the average number home and away goals scored Legia Warszawa, and their opponents, partitioned by the month in each season."
   ]
  },
  {
   "cell_type": "code",
   "execution_count": null,
   "metadata": {
    "vscode": {
     "languageId": "sql"
    }
   },
   "outputs": [],
   "source": [
    "-- Construct two window functions partitioning the average of home and away goals by season and month.\n",
    "-- Filter the dataset by Legia Warszawa's team ID (8673) so that the window calculation only includes matches involving them.\n",
    "SELECT \n",
    "\tdate,\n",
    "\tseason,\n",
    "\thome_goal,\n",
    "\taway_goal,\n",
    "\tCASE WHEN hometeam_id = 8673 THEN 'home' \n",
    "         ELSE 'away' END AS warsaw_location,\n",
    "\t-- Calculate average goals partitioned by season and month\n",
    "    AVG(home_goal) OVER(PARTITION BY season, \n",
    "         \tEXTRACT(month FROM date)) AS season_mo_home,\n",
    "    AVG(away_goal) OVER(PARTITION BY season, \n",
    "            EXTRACT(month FROM date)) AS season_mo_away\n",
    "FROM match\n",
    "WHERE \n",
    "\thometeam_id = 8673\n",
    "    OR awayteam_id = 8673\n",
    "ORDER BY (home_goal + away_goal) DESC;"
   ]
  },
  {
   "cell_type": "markdown",
   "metadata": {},
   "source": [
    "### 4.3 Sliding windows"
   ]
  },
  {
   "cell_type": "markdown",
   "metadata": {},
   "source": [
    "#### 4.3.1 Slide to the left"
   ]
  },
  {
   "cell_type": "markdown",
   "metadata": {},
   "source": [
    "Sliding windows allow you to create running calculations between any two points in a window using functions such as PRECEDING, FOLLOWING, and CURRENT ROW. You can calculate running counts, sums, averages, and other aggregate functions between any two points you specify in the data set.\n",
    "\n",
    "In this exercise, you will expand on the examples discussed in the video, calculating the running total of goals scored by the FC Utrecht when they were the home team during the 2011/2012 season. Do they score more goals at the end of the season as the home or away team?"
   ]
  },
  {
   "cell_type": "code",
   "execution_count": null,
   "metadata": {
    "vscode": {
     "languageId": "sql"
    }
   },
   "outputs": [],
   "source": [
    "-- Complete the window function by:\n",
    "-- Assessing the running total of home goals scored by FC Utrecht.\n",
    "-- Assessing the running average of home goals scored.\n",
    "-- Ordering both the running average and running total by date.\n",
    "SELECT \n",
    "\tdate,\n",
    "\thome_goal,\n",
    "\taway_goal,\n",
    "    -- Create a running total and running average of home goals\n",
    "    SUM(home_goal) OVER (ORDER BY date\n",
    "         ROWS BETWEEN UNBOUNDED PRECEDING AND CURRENT ROW) AS running_total,\n",
    "    AVG(home_goal) OVER (ORDER BY date\n",
    "         ROWS BETWEEN UNBOUNDED PRECEDING AND CURRENT ROW) AS running_avg\n",
    "FROM match\n",
    "WHERE \n",
    "\thometeam_id = 9908 \n",
    "\tAND season = '2011/2012';"
   ]
  },
  {
   "cell_type": "markdown",
   "metadata": {},
   "source": [
    "#### 4.3.2 Slide to the right"
   ]
  },
  {
   "cell_type": "markdown",
   "metadata": {},
   "source": [
    "\n",
    "Now let's see how FC Utrecht performs when they're the away team. You'll notice that the total for the season is at the bottom of the data set you queried. Depending on your results, this could be pretty long, and scrolling down is not very helpful.\n",
    "\n",
    "In this exercise, you will slightly modify the query from the previous exercise by sorting the data set in reverse order and calculating a backward running total from the CURRENT ROW to the end of the data set (earliest record)."
   ]
  },
  {
   "cell_type": "code",
   "execution_count": null,
   "metadata": {
    "vscode": {
     "languageId": "sql"
    }
   },
   "outputs": [],
   "source": [
    "-- Complete the window function by:\n",
    "-- Assessing the running total of home goals scored by FC Utrecht.\n",
    "-- Assessing the running average of home goals scored.\n",
    "-- Ordering both the running average and running total by date, descending.\n",
    "\n",
    "SELECT \n",
    "\t-- Select the date, home goal, and away goals\n",
    "\tdate,\n",
    "    home_goal,\n",
    "    away_goal,\n",
    "    -- Create a running total and running average of home goals\n",
    "    SUM(home_goal) OVER(ORDER BY date DESC\n",
    "         ROWS BETWEEN CURRENT ROW AND UNBOUNDED FOLLOWING) AS running_total,\n",
    "    AVG(home_goal) OVER(ORDER BY date DESC\n",
    "         ROWS BETWEEN CURRENT ROW AND UNBOUNDED FOLLOWING) AS running_avg\n",
    "FROM match\n",
    "WHERE \n",
    "\tawayteam_id = 9908 \n",
    "    AND season = '2011/2012';"
   ]
  },
  {
   "cell_type": "markdown",
   "metadata": {},
   "source": [
    "### 4.4 Bringing it all together"
   ]
  },
  {
   "cell_type": "markdown",
   "metadata": {},
   "source": [
    "#### Case Study\n",
    "who defeated manchester united in the 2013/2014 season?"
   ]
  },
  {
   "cell_type": "markdown",
   "metadata": {},
   "source": [
    "steps to construct the query\n",
    "\n",
    "1. get team names with CTEs\n",
    "2. get match outcome with CASE statement : to check MU wins or loss\n",
    "3. determine how badly bthey lost with a window function : ranking matches by the number of goals they lost the match\n",
    "\n",
    "database : Full European Soccer Database"
   ]
  },
  {
   "cell_type": "markdown",
   "metadata": {},
   "source": [
    "##### 4.4.1 Setting up the home team CTE"
   ]
  },
  {
   "cell_type": "markdown",
   "metadata": {},
   "source": [
    "In this course, we've covered ways in which you can use CASE statements, subqueries, common table expressions, and window functions in your queries to structure a data set that best meets your needs. For this exercise, you will be using all of these concepts to generate a list of matches in which Manchester United was defeated during the 2014/2015 English Premier League season.\n",
    "\n",
    "Your first task is to create the first query that filters for matches where Manchester United played as the home team. This will become a common table expression in a later exercise."
   ]
  },
  {
   "cell_type": "code",
   "execution_count": null,
   "metadata": {
    "vscode": {
     "languageId": "sql"
    }
   },
   "outputs": [],
   "source": [
    "-- Create a CASE statement that identifies each match as a win, lose, or tie for Manchester United.\n",
    "-- Fill out the logical operators for each WHEN clause in the CASE statement (equals, greater than, less than).\n",
    "-- Join the tables on home team ID from match, and team_api_id from team.\n",
    "-- Filter the query to only include games from the 2014/2015 season where Manchester United was the home team.\n",
    "SELECT \n",
    "\tm.id, \n",
    "    t.team_long_name,\n",
    "    -- Identify matches as home/away wins or ties\n",
    "\tCASE WHEN m.home_goal > m.away_goal THEN 'MU Win'\n",
    "\t\t WHEN m.home_goal < m.away_goal THEN 'MU Loss'\n",
    "         ELSE 'Tie' END AS outcome\n",
    "FROM match AS m\n",
    "-- Left join team on the home team ID and team API id\n",
    "LEFT JOIN team AS t \n",
    "ON m.hometeam_id = t.team_api_id\n",
    "WHERE \n",
    "\t-- Filter for 2014/2015 and Manchester United as the home team\n",
    "\tseason = '2014/2015'\n",
    "\tAND t.team_long_name = 'Manchester United';"
   ]
  },
  {
   "cell_type": "markdown",
   "metadata": {},
   "source": [
    "<img src='query_result\\4.4.1.png'/>"
   ]
  },
  {
   "cell_type": "markdown",
   "metadata": {},
   "source": [
    "#### 4.4.2 Setting up the away team CTE"
   ]
  },
  {
   "cell_type": "markdown",
   "metadata": {},
   "source": [
    "Great job! Now that you have a query identifying the home team in a match, you will perform a similar set of steps to identify the away team. Just like the previous step, you will join the match and team tables. Each of these two queries will be declared as a Common Table Expression in the following step.\n",
    "\n",
    "The primary difference in this query is that you will be joining the tables on awayteam_id, and reversing the match outcomes in the CASE statement.\n",
    "\n",
    "When altering CASE statement logic in your own work, you can reverse either the logical condition (i.e., home_goal > away_goal) or the outcome in THEN -- just make sure you only reverse one of the two!"
   ]
  },
  {
   "cell_type": "code",
   "execution_count": null,
   "metadata": {
    "vscode": {
     "languageId": "sql"
    }
   },
   "outputs": [],
   "source": [
    "-- Complete the CASE statement syntax.\n",
    "-- Fill out the logical operators identifying each match as a win, loss, or tie for Manchester United.\n",
    "-- Join the table on awayteam_id, and team_api_id.\n",
    "\n",
    "SELECT \n",
    "\tm.id, \n",
    "    t.team_long_name,\n",
    "    -- Identify matches as home/away wins or ties\n",
    "\tCASE WHEN m.home_goal < m.away_goal THEN 'MU Win'\n",
    "\t\t WHEN m.home_goal > m.away_goal THEN 'MU Loss'\n",
    "         ELSE 'Tie' END AS outcome\n",
    "-- Join team table to the match table\n",
    "FROM match AS m\n",
    "-- Left join team on the home team ID and team API id\n",
    "LEFT JOIN team AS t \n",
    "ON m.awayteam_id = t.team_api_id\n",
    "WHERE \n",
    "\t-- Filter for 2014/2015 and Manchester United as the home team\n",
    "\tseason = '2014/2015'\n",
    "\tAND t.team_long_name = 'Manchester United';"
   ]
  },
  {
   "cell_type": "markdown",
   "metadata": {},
   "source": [
    "#### 4.4.3 Putting the CTEs together"
   ]
  },
  {
   "cell_type": "markdown",
   "metadata": {},
   "source": [
    "Now that you've created the two subqueries identifying the home and away team opponents, it's time to rearrange your query with the home and away subqueries as Common Table Expressions (CTEs). You'll notice that the main query includes the phrase, SELECT DISTINCT. Without identifying only DISTINCT matches, you will return a duplicate record for each game played.\n",
    "\n",
    "Continue building the query to extract all matches played by Manchester United in the 2014/2015 season."
   ]
  },
  {
   "cell_type": "code",
   "execution_count": null,
   "metadata": {
    "vscode": {
     "languageId": "sql"
    }
   },
   "outputs": [],
   "source": [
    "-- Declare the home and away CTEs before your main query.\n",
    "-- Join your CTEs to the match table using a LEFT JOIN.\n",
    "-- Select the relevant data from the CTEs into the main query.\n",
    "-- Select the date from match, team names from the CTEs, and home/ away goals from match in the main query.\n",
    "-- Set up the home team CTE\n",
    "WITH home AS (\n",
    "  SELECT m.id, t.team_long_name,\n",
    "\t  CASE WHEN m.home_goal > m.away_goal THEN 'MU Win'\n",
    "\t\t   WHEN m.home_goal < m.away_goal THEN 'MU Loss' \n",
    "  \t\t   ELSE 'Tie' END AS outcome\n",
    "  FROM match AS m\n",
    "  LEFT JOIN team AS t ON m.hometeam_id = t.team_api_id),\n",
    "-- Set up the away team CTE\n",
    "away AS (\n",
    "  SELECT m.id, t.team_long_name,\n",
    "\t  CASE WHEN m.home_goal > m.away_goal THEN 'MU Win'\n",
    "\t\t   WHEN m.home_goal < m.away_goal THEN 'MU Loss' \n",
    "  \t\t   ELSE 'Tie' END AS outcome\n",
    "  FROM match AS m\n",
    "  LEFT JOIN team AS t ON m.awayteam_id = t.team_api_id)\n",
    "-- Select team names, the date and goals\n",
    "SELECT DISTINCT\n",
    "    m.home_goal,\n",
    "    home.team_long_name AS home_team,\n",
    "    away.team_long_name AS away_team,\n",
    "    date,\n",
    "    m.away_goal\n",
    "-- Join the CTEs onto the match table\n",
    "FROM match AS m\n",
    "LEFT JOIN home ON m.id = home.id\n",
    "LEFT JOIN away ON m.id = away.id\n",
    "WHERE m.season = '2014/2015'\n",
    "      AND (home.team_long_name = 'Manchester United' \n",
    "           OR away.team_long_name = 'Manchester United');"
   ]
  },
  {
   "cell_type": "markdown",
   "metadata": {},
   "source": [
    "#### 4.4.4 Add a window function"
   ]
  },
  {
   "cell_type": "markdown",
   "metadata": {},
   "source": [
    "Fantastic! You now have a result set that retrieves the match date, home team, away team, and the goals scored by each team. You have one final component of the question left -- how badly did Manchester United lose in each match?\n",
    "\n",
    "In order to determine this, let's add a window function to the main query that ranks matches by the absolute value of the difference between home_goal and away_goal. This allows us to directly compare the difference in scores without having to consider whether Manchester United played as the home or away team!\n",
    "\n",
    "The equation is complete for you -- all you need to do is properly complete the window function!"
   ]
  },
  {
   "cell_type": "code",
   "execution_count": null,
   "metadata": {
    "vscode": {
     "languageId": "sql"
    }
   },
   "outputs": [],
   "source": [
    "-- Set up the CTEs so that the home and away teams each have a name, ID, and score associated with them.\n",
    "-- Select the date, home team name, away team name, home goal, and away goals scored in the main query.\n",
    "-- Rank the matches and order by the difference in scores in descending order.\n",
    "-- Set up the home team CTE\n",
    "WITH home AS (\n",
    "  SELECT m.id, t.team_long_name,\n",
    "\t  CASE WHEN m.home_goal > m.away_goal THEN 'MU Win'\n",
    "\t\t   WHEN m.home_goal < m.away_goal THEN 'MU Loss' \n",
    "  \t\t   ELSE 'Tie' END AS outcome\n",
    "  FROM match AS m\n",
    "  LEFT JOIN team AS t ON m.hometeam_id = t.team_api_id),\n",
    "-- Set up the away team CTE\n",
    "away AS (\n",
    "  SELECT m.id, t.team_long_name,\n",
    "\t  CASE WHEN m.home_goal > m.away_goal THEN 'MU Loss'\n",
    "\t\t   WHEN m.home_goal < m.away_goal THEN 'MU Win' \n",
    "  \t\t   ELSE 'Tie' END AS outcome\n",
    "  FROM match AS m\n",
    "  LEFT JOIN team AS t ON m.awayteam_id = t.team_api_id)\n",
    "-- Select columns and and rank the matches by goal difference\n",
    "SELECT DISTINCT\n",
    "    date,\n",
    "    home.team_long_name AS home_team,\n",
    "    away.team_long_name AS away_team,\n",
    "    m.home_goal, m.away_goal,\n",
    "    RANK() OVER(ORDER BY ABS(home_goal - away_goal) DESC) as match_rank\n",
    "-- Join the CTEs onto the match table\n",
    "FROM match AS m\n",
    "LEFT JOIN home ON m.id = home.id\n",
    "LEFT JOIN away ON m.id = away.id\n",
    "WHERE m.season = '2014/2015'\n",
    "      AND ((home.team_long_name = 'Manchester United' AND home.outcome = 'MU Loss')\n",
    "      OR (away.team_long_name = 'Manchester United' AND away.outcome = 'MU Loss'));"
   ]
  },
  {
   "cell_type": "markdown",
   "metadata": {},
   "source": [
    "<img src = 'query_result\\4.4.4.png'/>"
   ]
  },
  {
   "cell_type": "markdown",
   "metadata": {},
   "source": []
  }
 ],
 "metadata": {
  "kernelspec": {
   "display_name": "Python 3",
   "language": "python",
   "name": "python3"
  },
  "language_info": {
   "codemirror_mode": {
    "name": "ipython",
    "version": 3
   },
   "file_extension": ".py",
   "mimetype": "text/x-python",
   "name": "python",
   "nbconvert_exporter": "python",
   "pygments_lexer": "ipython3",
   "version": "3.11.9"
  }
 },
 "nbformat": 4,
 "nbformat_minor": 2
}
