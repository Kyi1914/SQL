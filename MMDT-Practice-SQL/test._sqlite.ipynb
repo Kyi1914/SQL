{
 "cells": [
  {
   "cell_type": "markdown",
   "metadata": {},
   "source": [
    "installation"
   ]
  },
  {
   "cell_type": "code",
   "execution_count": null,
   "metadata": {},
   "outputs": [],
   "source": [
    "# pip install pandas sqlalchemy"
   ]
  },
  {
   "cell_type": "markdown",
   "metadata": {},
   "source": [
    "### importing libraries"
   ]
  },
  {
   "cell_type": "code",
   "execution_count": 2,
   "metadata": {},
   "outputs": [],
   "source": [
    "import sqlite3\n",
    "import pandas as pd"
   ]
  },
  {
   "cell_type": "markdown",
   "metadata": {},
   "source": [
    "### general"
   ]
  },
  {
   "cell_type": "markdown",
   "metadata": {},
   "source": [
    "Q.1: Count the number of participants"
   ]
  },
  {
   "cell_type": "code",
   "execution_count": null,
   "metadata": {},
   "outputs": [],
   "source": [
    "db_path = './database/mmdt.db3'\n",
    "query = 'SELECT count(*) FROM participants'\n",
    "df = pd.read_sql_query(query, f\"sqlite:///{db_path}\")"
   ]
  },
  {
   "cell_type": "markdown",
   "metadata": {},
   "source": [
    "Q.2: Retrieve the ID, City and State Region of all applicants who are currently in Myanmar"
   ]
  },
  {
   "cell_type": "code",
   "execution_count": 5,
   "metadata": {},
   "outputs": [],
   "source": [
    "query = \"SELECT ID, city, state_region FROM country WHERE country LIKE 'Myanmar'\""
   ]
  },
  {
   "cell_type": "code",
   "execution_count": null,
   "metadata": {},
   "outputs": [],
   "source": [
    "# retrieve gender is null\n",
    "query = \"SELECT ID FROM participants WHERE gender IS NULL\""
   ]
  },
  {
   "cell_type": "code",
   "execution_count": null,
   "metadata": {},
   "outputs": [],
   "source": [
    "# calculate the age\n",
    "query = \"SELECT ID, 2024-BOD as AGE FROM participants LIMIT 5\""
   ]
  },
  {
   "cell_type": "code",
   "execution_count": null,
   "metadata": {
    "vscode": {
     "languageId": "sql"
    }
   },
   "outputs": [],
   "source": [
    "-- find mean, min, max, standard deviaion stddev of AGE.\n",
    "SELECT ID, \n",
    "        mean(2024-BOD) as Mean_AGE, \n",
    "        max(2024-BOD) as max_AGE, \n",
    "        min(2024-BOD) as min_AGE,\n",
    "        stddev(2024-BOD) as std_AGE\n",
    "FROM participants LIMIT 5\""
   ]
  },
  {
   "cell_type": "markdown",
   "metadata": {},
   "source": [
    "### Working with NULL values"
   ]
  },
  {
   "cell_type": "markdown",
   "metadata": {},
   "source": [
    "#### check the null values"
   ]
  },
  {
   "cell_type": "code",
   "execution_count": null,
   "metadata": {
    "vscode": {
     "languageId": "sql"
    }
   },
   "outputs": [],
   "source": [
    "-- check null value from the column\n",
    "SELECT COUNT(*) FROM table_name WHERE column IS NULL;\n",
    "\n",
    "SELECT * FROM table_name WHERE column IS NULL;\n",
    "\n",
    "-- check not null\n",
    "SELECT * FROM table_name WHERE column IS NOT NULL;"
   ]
  },
  {
   "cell_type": "markdown",
   "metadata": {},
   "source": [
    "#### update NULL values"
   ]
  },
  {
   "cell_type": "code",
   "execution_count": null,
   "metadata": {
    "vscode": {
     "languageId": "sql"
    }
   },
   "outputs": [],
   "source": [
    "-- update table\n",
    "UPDATE table_name\n",
    "SET column_name = 'value'\n",
    "WHERE statement;\n",
    "\n",
    "UPDATE participants\n",
    "SET selected = 'REPLACE'\n",
    "WHERE ID in [82,85]';\n",
    "\n",
    "UPDATE participants\n",
    "SET country = COALESCE(country, 'Bhutan');"
   ]
  },
  {
   "cell_type": "code",
   "execution_count": null,
   "metadata": {
    "vscode": {
     "languageId": "sql"
    }
   },
   "outputs": [],
   "source": [
    "-- working in query; not update to the table;\n",
    "SELECT id, COALESCE(BOD, 2000)\n",
    "FROM participants\n",
    "LIMIT 20 OFFSET 80; \n",
    "-- offset = latest rows"
   ]
  },
  {
   "cell_type": "markdown",
   "metadata": {},
   "source": [
    "### Joining the tables"
   ]
  },
  {
   "cell_type": "code",
   "execution_count": null,
   "metadata": {
    "vscode": {
     "languageId": "sql"
    }
   },
   "outputs": [],
   "source": [
    "-- right join and full outer join are not supported in SQLite.\n",
    "INNER JOIN:\n",
    "RIGHT JOIN\n",
    "SELF JOIN\n",
    "CROSS JOIN"
   ]
  },
  {
   "cell_type": "markdown",
   "metadata": {},
   "source": [
    "### Case statement"
   ]
  },
  {
   "cell_type": "code",
   "execution_count": null,
   "metadata": {
    "vscode": {
     "languageId": "sql"
    }
   },
   "outputs": [],
   "source": [
    "-- case\n",
    "SELECT \n",
    "    CASE \n",
    "        WHEN condition1 THEN case1\n",
    "        WHEN condition2 THEN case2\n",
    "        ELSE condition3\n",
    "    END AS column_name\n",
    "FROM table;    "
   ]
  },
  {
   "cell_type": "markdown",
   "metadata": {},
   "source": [
    "### Common table expression\n",
    "create temp table"
   ]
  },
  {
   "cell_type": "code",
   "execution_count": null,
   "metadata": {
    "vscode": {
     "languageId": "sql"
    }
   },
   "outputs": [],
   "source": [
    "-- common table expression\n",
    "WITH temp_table_name AS (\n",
    "    SELECT statement for building the required table\n",
    ")"
   ]
  },
  {
   "cell_type": "code",
   "execution_count": null,
   "metadata": {
    "vscode": {
     "languageId": "sql"
    }
   },
   "outputs": [],
   "source": [
    "WITH \n",
    "    temp_table1 AS (\n",
    "        SELECT statement for building the required table\n",
    "    ),\n",
    "    temp_table2 AS (\n",
    "\n",
    "\n",
    "SELECT * FROM temp_table1;"
   ]
  },
  {
   "cell_type": "markdown",
   "metadata": {},
   "source": [
    "### Working with Date and Time"
   ]
  },
  {
   "cell_type": "markdown",
   "metadata": {},
   "source": []
  },
  {
   "cell_type": "markdown",
   "metadata": {},
   "source": [
    "### Window Functions"
   ]
  },
  {
   "cell_type": "markdown",
   "metadata": {},
   "source": [
    "row_number()  \n",
    "rank()   \n",
    "dense_rank()  \n",
    "percent_rank()  \n",
    "cume_dist()  \n",
    "ntile(N)  \n",
    "lag(expr), lag(expr,offset), lag(expr,offset,default)  \n",
    "lead(expr), lead(expr,offset), lead(expr,offset,default)  \n",
    "first_value(expr)  \n",
    "last_value(expr)  \n",
    "nth_value(expr,N)  "
   ]
  },
  {
   "cell_type": "code",
   "execution_count": null,
   "metadata": {
    "vscode": {
     "languageId": "sql"
    }
   },
   "outputs": [],
   "source": [
    "-- window \n",
    "SELECT window_function() OVER (\n",
    "    PARTITION BY clause\n",
    "    ORDER BY clause\n",
    "    \n",
    ")\n",
    "\n",
    "-- e.g\n",
    "SELECT \n",
    "    ID,\n",
    "    RANK() OVER(\n",
    "                ORDER BY pre_knowledge_data\n",
    "                ) AS level\n",
    "FROM participants;\n"
   ]
  },
  {
   "cell_type": "markdown",
   "metadata": {},
   "source": []
  }
 ],
 "metadata": {
  "kernelspec": {
   "display_name": "Python 3",
   "language": "python",
   "name": "python3"
  },
  "language_info": {
   "codemirror_mode": {
    "name": "ipython",
    "version": 3
   },
   "file_extension": ".py",
   "mimetype": "text/x-python",
   "name": "python",
   "nbconvert_exporter": "python",
   "pygments_lexer": "ipython3",
   "version": "3.11.9"
  }
 },
 "nbformat": 4,
 "nbformat_minor": 2
}
